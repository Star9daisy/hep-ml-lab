{
 "cells": [
  {
   "attachments": {},
   "cell_type": "markdown",
   "metadata": {},
   "source": [
    "# Create datasets\n",
    "\n",
    "This notebook shows how to convert events of ROOT branches into different representations to prepare\n",
    "a sample and collect them into a dataset.\n",
    "\n",
    "## Introduction to representations\n",
    "\n",
    "Data representations are data structures to store data. There are usually three representations in\n",
    "high energy physics: Set, Image, and Graph.\n",
    "\n",
    "Set is a 1D representation of events, which contains a set of observables of physics objects.\n",
    "Observables are designed variables to refect the properties of events. For example, the invariant\n",
    "mass of dijet indicate the middle particle; N-subjettiness indicates the number of subjets in a jet.\n",
    "Representing events in Set is actively used in a large number of phenomenological studies.\n",
    "Observables as high-level low-dimensional features are usually designed with physics insight and\n",
    "expertise. Set is usually used in traditional machine learning methods, such as cut-based analysis,\n",
    "decision tree, and so on.\n",
    "\n",
    "Image is a 2D (gray scale) or 3D (RGB) representation. From the aspect of detectors, they are like\n",
    "a giant camera to take pictures of final stable particles. Then these particles naturally form a 2D\n",
    "image whose pixel intensity is the energy deposit of particles or other particle-related features,\n",
    "and width and height are $\\eta-\\phi$ (pseudorapidity and azimuthal angle plane). Image could reflect\n",
    "the spatial characteristics of events, which is suitable for convolutional neural networks (CNNs).\n",
    "Its information is more complete than Set, but it is usually a sparse matrix, which is not storeage\n",
    "efficient.\n",
    "\n",
    "Graph is a 2D representation. A graph consists of nodes and edges. Here nodes are particles and\n",
    "edges are the relationship between particles (e.g. the distance between particles in $\\eta-\\phi$\n",
    "plane). Graph as a low-level high-dimensional representation, contains all the details of events,\n",
    "which makes it most suitable for fully exploring potential of new physics and machine learning\n",
    "techniques. Graph is usually used in graph neural networks (GNNs).\n",
    "\n",
    "## Get events from ROOT files\n",
    "\n",
    "First, we need to read events from output `.root` file. Let's import necessary modules from HML."
   ]
  },
  {
   "cell_type": "code",
   "execution_count": 1,
   "metadata": {},
   "outputs": [
    {
     "name": "stdout",
     "output_type": "stream",
     "text": [
      "Welcome to JupyROOT 6.24/02\n"
     ]
    }
   ],
   "source": [
    "import numpy as np\n",
    "from hml.generators import MG5Run\n",
    "from hml.representations import Set\n",
    "from hml.observables import Pt, M, DeltaR\n",
    "from hml.datasets import Dataset"
   ]
  },
  {
   "attachments": {},
   "cell_type": "markdown",
   "metadata": {},
   "source": [
    "`MG5Run` is here to get information about a run such as cross section and events. It requires the\n",
    "run directory to retrieve all useful information."
   ]
  },
  {
   "cell_type": "code",
   "execution_count": 2,
   "metadata": {},
   "outputs": [],
   "source": [
    "sig_run = MG5Run(\"./data/pp2zz/Events/run_01/\")\n",
    "bkg_run = MG5Run(\"./data/pp2jj/Events/run_01/\")"
   ]
  },
  {
   "attachments": {},
   "cell_type": "markdown",
   "metadata": {},
   "source": [
    "Then we need define a representation. Here we use `Set` as an example. It requires a list of\n",
    "observables. You can find all supported observables in `hml.observables` module."
   ]
  },
  {
   "cell_type": "code",
   "execution_count": 3,
   "metadata": {},
   "outputs": [],
   "source": [
    "representation = Set([Pt(\"Jet1\"), Pt(\"Jet2\"), DeltaR(\"Jet1\", \"Jet2\"), M(\"FatJet1\")])"
   ]
  },
  {
   "attachments": {},
   "cell_type": "markdown",
   "metadata": {},
   "source": [
    "Two core parts of a dataset are data and target: data is the values of defined representation and\n",
    "features one event; target is the integer label of each event. We create data and target as two empty\n",
    "lists and fill them by looping over all events.\n",
    "\n",
    "To obtain the representation values, call `.from_event` method, then HML will do the rest to correctly\n",
    "get the values in the proper format. In event loop, you can add customed cuts to select events as the\n",
    "same way as in `PyROOT`."
   ]
  },
  {
   "cell_type": "code",
   "execution_count": 4,
   "metadata": {},
   "outputs": [],
   "source": [
    "data, target = [], []\n",
    "\n",
    "for event in sig_run.events:\n",
    "    if event.Jet_size >= 2 and event.FatJet_size >= 1:\n",
    "        representation.from_event(event)\n",
    "        data.append(representation.values)\n",
    "        target.append(1)\n",
    "\n",
    "for event in bkg_run.events:\n",
    "    if event.Jet_size >= 2 and event.FatJet_size >= 1:\n",
    "        representation.from_event(event)\n",
    "        data.append(representation.values)\n",
    "        target.append(0)\n",
    "\n",
    "data = np.array(data, dtype=np.float32)\n",
    "target = np.array(target, dtype=np.int32)"
   ]
  },
  {
   "attachments": {},
   "cell_type": "markdown",
   "metadata": {},
   "source": [
    "After filling data and target, now we can complete a dataset with necessary information."
   ]
  },
  {
   "cell_type": "code",
   "execution_count": 5,
   "metadata": {},
   "outputs": [],
   "source": [
    "dataset = Dataset(\n",
    "    data,\n",
    "    target,\n",
    "    feature_names=representation.names,\n",
    "    target_names=[\"pp2jj\", \"pp2zz\"],\n",
    "    description=\"This is a demo dataset for HML. Classify Z jets and QCD jets.\",\n",
    "    dir_path=\"./data/z_vs_qcd\",\n",
    ")"
   ]
  },
  {
   "attachments": {},
   "cell_type": "markdown",
   "metadata": {},
   "source": [
    "Finally, call `save` method to save the dataset to a directory where descriptive information is\n",
    "stored as metadata in a yaml file and data and target are stored in a npz file. To learn more about\n",
    "`Dataset`, check out the [API documentation](../../api-reference/hml.datasets/#hml.datasets.Dataset)."
   ]
  },
  {
   "cell_type": "code",
   "execution_count": 6,
   "metadata": {},
   "outputs": [],
   "source": [
    "dataset.save(exist_ok=True)"
   ]
  },
  {
   "attachments": {},
   "cell_type": "markdown",
   "metadata": {},
   "source": [
    "In the next notebook, we will see how to load a local dataset and use it to train a machine learning\n",
    "model."
   ]
  }
 ],
 "metadata": {
  "kernelspec": {
   "display_name": "Python 3 (ipykernel)",
   "language": "python",
   "name": "python3"
  },
  "language_info": {
   "codemirror_mode": {
    "name": "ipython",
    "version": 3
   },
   "file_extension": ".py",
   "mimetype": "text/x-python",
   "name": "python",
   "nbconvert_exporter": "python",
   "pygments_lexer": "ipython3",
   "version": "3.8.16"
  },
  "orig_nbformat": 4
 },
 "nbformat": 4,
 "nbformat_minor": 2
}
