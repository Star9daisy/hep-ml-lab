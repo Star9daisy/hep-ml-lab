{
 "cells": [
  {
   "attachments": {},
   "cell_type": "markdown",
   "metadata": {},
   "source": [
    "# Create datasets\n",
    "\n",
    "This notebook shows how to prepare data in different representations and create a dataset.\n",
    "\n",
    "## Introduction to representations\n",
    "\n",
    "Before applying methods to analyze events, we need to represent them in a proper format.\n",
    "\n",
    "Set is a 1D representation of events, which contains a set of observables of physics objects.\n",
    "Observables are designed variables to refect the properties of events. For example, the invariant\n",
    "mass of dijet indicate the middle particle; N-subjettiness indicates the number of subjets in a jet.\n",
    "It's a straightforward way and actively used in a large number of analyses.\n",
    "\n",
    "! Need description of Image and Graph.\n",
    "\n",
    "## Get events from ROOT files\n",
    "\n",
    "First, we need to read events from output `.root` file. Let's import nessary modules from HML."
   ]
  },
  {
   "cell_type": "code",
   "execution_count": 1,
   "metadata": {},
   "outputs": [
    {
     "name": "stdout",
     "output_type": "stream",
     "text": [
      "Welcome to JupyROOT 6.24/02\n"
     ]
    }
   ],
   "source": [
    "import numpy as np\n",
    "from hml.generators import MG5Run\n",
    "from hml.representations import Set\n",
    "from hml.observables import Pt, M, DeltaR\n",
    "from hml.datasets import Dataset"
   ]
  },
  {
   "attachments": {},
   "cell_type": "markdown",
   "metadata": {},
   "source": [
    "`MG5Run` is here to get information about a run such as cross section and events. It requires the\n",
    "run directory to retrieve all useful information."
   ]
  },
  {
   "cell_type": "code",
   "execution_count": 2,
   "metadata": {},
   "outputs": [],
   "source": [
    "sig_run = MG5Run(\"./data/pp2zj/Events/run_01/\")\n",
    "bkg_run = MG5Run(\"./data/qcd/Events/run_01/\")"
   ]
  },
  {
   "attachments": {},
   "cell_type": "markdown",
   "metadata": {},
   "source": [
    "Then we need define a representation. Here we use `Set` as an example. It requires a list of\n",
    "observables. You can find all supported observables in `hml.observables` module."
   ]
  },
  {
   "cell_type": "code",
   "execution_count": 3,
   "metadata": {},
   "outputs": [],
   "source": [
    "representation = Set([Pt(\"Jet1\"), Pt(\"Jet2\"), DeltaR(\"Jet1\", \"Jet2\"), M(\"FatJet1\")])"
   ]
  },
  {
   "attachments": {},
   "cell_type": "markdown",
   "metadata": {},
   "source": [
    "Two core parts of a dataset are data and target: data is the values of defined representation and\n",
    "features one event; target is the integer label of each event. We create data and target as two empty\n",
    "lists and fill them by looping over all events.\n",
    "\n",
    "To obtain the representation values, call `.from_event` method, then HML will do the rest to correctly\n",
    "get the values in the proper format. In event loop, you can add customed cuts to select events as the\n",
    "same way as in `pyROOT`."
   ]
  },
  {
   "cell_type": "code",
   "execution_count": 4,
   "metadata": {},
   "outputs": [],
   "source": [
    "data, target = [], []\n",
    "\n",
    "for event in sig_run.events:\n",
    "    if event.Jet_size >= 2 and event.FatJet_size >= 1:\n",
    "        representation.from_event(event)\n",
    "        data.append(representation.values)\n",
    "        target.append(1)\n",
    "\n",
    "for event in bkg_run.events:\n",
    "    if event.Jet_size >= 2 and event.FatJet_size >= 1:\n",
    "        representation.from_event(event)\n",
    "        data.append(representation.values)\n",
    "        target.append(0)\n",
    "\n",
    "data = np.array(data, dtype=np.float32)\n",
    "target = np.array(target, dtype=np.int32)\n"
   ]
  },
  {
   "cell_type": "code",
   "execution_count": 5,
   "metadata": {},
   "outputs": [
    {
     "data": {
      "text/plain": [
       "(16289, 4)"
      ]
     },
     "execution_count": 5,
     "metadata": {},
     "output_type": "execute_result"
    }
   ],
   "source": [
    "data.shape"
   ]
  },
  {
   "cell_type": "code",
   "execution_count": 6,
   "metadata": {},
   "outputs": [
    {
     "data": {
      "text/plain": [
       "(array([0, 1], dtype=int32), array([7433, 8856]))"
      ]
     },
     "execution_count": 6,
     "metadata": {},
     "output_type": "execute_result"
    }
   ],
   "source": [
    "np.unique(target, return_counts=True)"
   ]
  },
  {
   "attachments": {},
   "cell_type": "markdown",
   "metadata": {},
   "source": [
    "After filling data and target, now we can complete a dataset with necessary information."
   ]
  },
  {
   "cell_type": "code",
   "execution_count": 7,
   "metadata": {},
   "outputs": [],
   "source": [
    "dataset = Dataset(\n",
    "    data,\n",
    "    target,\n",
    "    feature_names=representation.names,\n",
    "    target_names=[\"pp2wz\", \"qcd\"],\n",
    "    description=\"This is a demo dataset for HML. Classify pp2wz and qcd events.\",\n",
    "    dataset_dir=\"./data/z_vs_qcd\",\n",
    ")"
   ]
  },
  {
   "cell_type": "code",
   "execution_count": 8,
   "metadata": {},
   "outputs": [],
   "source": [
    "dataset.save()"
   ]
  },
  {
   "attachments": {},
   "cell_type": "markdown",
   "metadata": {},
   "source": [
    "Finally, call `save` method to save the dataset to a directory where descriptive information is stored\n",
    "as metadata in a yaml file and data and target are stored in a npz file."
   ]
  }
 ],
 "metadata": {
  "kernelspec": {
   "display_name": "Python 3 (ipykernel)",
   "language": "python",
   "name": "python3"
  },
  "language_info": {
   "codemirror_mode": {
    "name": "ipython",
    "version": 3
   },
   "file_extension": ".py",
   "mimetype": "text/x-python",
   "name": "python",
   "nbconvert_exporter": "python",
   "pygments_lexer": "ipython3",
   "version": "3.8.16"
  },
  "orig_nbformat": 4
 },
 "nbformat": 4,
 "nbformat_minor": 2
}
