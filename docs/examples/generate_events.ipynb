{
 "cells": [
  {
   "attachments": {},
   "cell_type": "markdown",
   "metadata": {},
   "source": [
    "# Generate events\n",
    "\n",
    "This guide shows how to generate events using Madgraph5 class in HML.\n",
    "\n",
    "## What is Madgraph5?\n",
    "[Madgraph5](https://launchpad.net/mg5amcnlo) is a framework providing all the necessary elements for\n",
    "studies of collider phenomenology. It is able to generate events from a given model in UFO format,\n",
    "connect to a parton shower tool like Pythia8, and perform detector simulation via tools like Delphes.\n",
    "It is a powerful and popular tool in the high energy physics community.\n",
    "\n",
    "Usually, you work with Madgraph5 via its command line interface (CLI). The main commands are\n",
    "`generate`, `output`, `launch`. `generate` is used to specify the processes you want to study.\n",
    "`output` is used to decide where to store the output files. `launch` starts generating the events.\n",
    "After this, you get two prompts: the first one lets you choose extra tools for parton shower and\n",
    "detector simulation, and the second one lets you tweak the parameters of the current theory model\n",
    "and generation run. Once you are done with both prompts, the event generation begins.\n",
    "\n",
    "After some trial and error with different settings, you can make a run script in plain text to\n",
    "tell Madgraph5 exactly what to do, step by step. It is a good practice to keep this script because\n",
    "it makes your work reproducible and consistent. It's also beneficial for others to understand what\n",
    "you have done and repeat your work.\n",
    "\n",
    "## Use Madgraph5 in HML\n",
    "While entering commands in the CLI is handy, it can be cumbersome to jump back and forth between\n",
    "the command line and the file browser. HML makes it easier to access the output data and other\n",
    "useful information.\n",
    "\n",
    "To start using it, let's first import the `Madgraph5` class from `hml.generators` module."
   ]
  },
  {
   "cell_type": "code",
   "execution_count": 1,
   "metadata": {},
   "outputs": [
    {
     "name": "stdout",
     "output_type": "stream",
     "text": [
      "Welcome to JupyROOT 6.24/02\n"
     ]
    }
   ],
   "source": [
    "from hml.generators import Madgraph5"
   ]
  },
  {
   "attachments": {},
   "cell_type": "markdown",
   "metadata": {},
   "source": [
    "As you can see, the `Madgraph5` class actually use `PyROOT` as the backend to operate on the `.root`\n",
    "file. Move on, we'll see how to use it."
   ]
  },
  {
   "cell_type": "code",
   "execution_count": 2,
   "metadata": {},
   "outputs": [],
   "source": [
    "signal_generator = Madgraph5(\n",
    "    executable=\"mg5_aMC\",\n",
    "    processes=\"p p > z z, z > j j, z > ve ve~\",\n",
    "    output_dir=\"./data/pp2zz\",\n",
    "    shower=\"Pythia8\",\n",
    "    detector=\"Delphes\",\n",
    "    settings={\n",
    "        \"nevents\": 10000,\n",
    "        \"iseed\": 42,\n",
    "        \"htjmin\": 400,\n",
    "    },\n",
    ")\n",
    "background_generator = Madgraph5(\n",
    "    executable=\"mg5_aMC\",\n",
    "    processes=\"p p > j j / z\",\n",
    "    output_dir=\"./data/pp2jj\",\n",
    "    shower=\"Pythia8\",\n",
    "    detector=\"Delphes\",\n",
    "    settings={\n",
    "        \"nevents\": 10000,\n",
    "        \"iseed\": 42,\n",
    "        \"htjmin\": 400,\n",
    "    },\n",
    ")"
   ]
  },
  {
   "attachments": {},
   "cell_type": "markdown",
   "metadata": {},
   "source": [
    "We presume that our objective is to distinguish Z jets from the usual QCD background, hence we\n",
    "establish two generators.\n",
    "\n",
    "The parameters of `Madgraph5` class closely mirror those of the CLI. For example, `define` and `set`\n",
    "commands in CLI are `definitions` and `settings` here.\n",
    "\n",
    "Once the generators are configured, we can start generating events with `launch` method."
   ]
  },
  {
   "cell_type": "code",
   "execution_count": 3,
   "metadata": {},
   "outputs": [
    {
     "name": "stdout",
     "output_type": "stream",
     "text": [
      "Generating events...\n",
      "Running Pythia8...\n",
      "Running Delphes...\n",
      "Storing files...\n",
      "Done\n",
      "Generating events...\n",
      "Running Pythia8...\n",
      "Running Delphes...\n",
      "Storing files...\n",
      "Done\n"
     ]
    }
   ],
   "source": [
    "signal_generator.launch()\n",
    "background_generator.launch()"
   ]
  },
  {
   "attachments": {},
   "cell_type": "markdown",
   "metadata": {},
   "source": [
    "It's worth noting that the `launch` method in the `Madgraph5` class is different from that of the\n",
    "CLI. It doesn't launch the two prompts, as they are now parts of `Madgraph5` parameters. Instead,\n",
    "it will directly begin the generation which is more convenient for automation.\n",
    "\n",
    "After the generation is done, we can access the output files via the `output` attribute."
   ]
  },
  {
   "cell_type": "code",
   "execution_count": 4,
   "metadata": {},
   "outputs": [
    {
     "name": "stdout",
     "output_type": "stream",
     "text": [
      "cross section (pb): 0.00077034\n",
      "cross section (pb): 56849.047629999994\n",
      "number of events: 10000\n",
      "number of events: 10000\n"
     ]
    }
   ],
   "source": [
    "sig_run = signal_generator.runs[0]\n",
    "bkg_run = background_generator.runs[0]\n",
    "print(f\"cross section (pb): {sig_run.cross_section}\")\n",
    "print(f\"cross section (pb): {bkg_run.cross_section}\")\n",
    "print(f\"number of events: {sig_run.events.GetEntries()}\")\n",
    "print(f\"number of events: {bkg_run.events.GetEntries()}\")"
   ]
  },
  {
   "attachments": {},
   "cell_type": "markdown",
   "metadata": {},
   "source": [
    "Each launch in Madgraph5 corresponds to a specific run directory. The `.runs` attribute fetches all\n",
    "the runs in the output directory intuitively. Accessing cross section is also simple via the\n",
    "`.cross_section` attribute. To access branches in the `.root` file, use `.events` to read the file\n",
    "and operate it with `PyROOT` APIs. Here, we use `.GetEntries()` to get the number of events.\n",
    "\n",
    "To learn more about `Madgraph5` class, check out the [API documentation](../../api-reference/hml.generators#hml.generators.Madgraph5)."
   ]
  }
 ],
 "metadata": {
  "kernelspec": {
   "display_name": "Python 3 (ipykernel)",
   "language": "python",
   "name": "python3"
  },
  "language_info": {
   "codemirror_mode": {
    "name": "ipython",
    "version": 3
   },
   "file_extension": ".py",
   "mimetype": "text/x-python",
   "name": "python",
   "nbconvert_exporter": "python",
   "pygments_lexer": "ipython3",
   "version": "3.8.16"
  },
  "orig_nbformat": 4
 },
 "nbformat": 4,
 "nbformat_minor": 2
}
