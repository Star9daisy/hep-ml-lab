{
 "cells": [
  {
   "attachments": {},
   "cell_type": "markdown",
   "metadata": {},
   "source": [
    "# Generate events\n",
    "\n",
    "This notebook shows how to generate events via Madgraph5 APIs in HML.\n",
    "\n",
    "## Introduction to Madgraph5\n",
    "[Madgraph5](https://launchpad.net/mg5amcnlo) is a framework providing all the necessary elements for studies of collider phenomenology.\n",
    "It is able to generate events from a given model in UFO format, connect to a parton shower tool like\n",
    "Pythia8, and perform detector simulation via tools like Delphes. It is a powerful and popular tool\n",
    "in the high energy physics community.\n",
    "\n",
    "Users typically interact with it via a command line interface (CLI). The main commands in Madgraph5\n",
    "workflow are: `generate`, `output`, `launch`. `generate` is used to specify the process\n",
    "of interest that allowed in the given model. `output` is used to specify where the output\n",
    "files are stored. `launch` launches the generation. Then there comes two prompts: the\n",
    "first one provides options of tools to use like parton shower and detector simulation, and the second\n",
    "one provides related parameter cards allowing users to adjust. After the second enter or `done`, the\n",
    "generation starts.\n",
    "\n",
    "After a few tries among different parameters, a run script in plain text could be determined by users\n",
    "to automate every step of Madgraph5. It's a good practice to keep the run script for consistency and\n",
    "reproducibility. After reading this script, others could understand what you have done and easily\n",
    "reproduce the results.\n",
    "\n",
    "## Madgraph5 APIs in HML\n",
    "While it's convenient to use the CLI, it contains a lot of jumps between the command line and the file\n",
    "browser. To make it easier to acess the output `.root` file and cross section information, HML provides\n",
    "`Madgraph5` class to integrate core functions of Madgraph5.\n",
    "\n",
    "To use it, let's first import the `Madgraph5` class from `hml.generators` module."
   ]
  },
  {
   "cell_type": "code",
   "execution_count": 1,
   "metadata": {},
   "outputs": [
    {
     "name": "stdout",
     "output_type": "stream",
     "text": [
      "Welcome to JupyROOT 6.24/02\n"
     ]
    }
   ],
   "source": [
    "from hml.generators import Madgraph5"
   ]
  },
  {
   "attachments": {},
   "cell_type": "markdown",
   "metadata": {},
   "source": [
    "As you can see, the `Madgraph5` class actually use `pyROOT` as the backend to operate on the `.root`\n",
    "file. Move on, we'll see how to use it."
   ]
  },
  {
   "cell_type": "code",
   "execution_count": 2,
   "metadata": {},
   "outputs": [],
   "source": [
    "signal_generator = Madgraph5(\n",
    "    processes=\"p p > z j, z > j j\",\n",
    "    output_dir=\"./data/pp2zj\",\n",
    "    shower=\"Pythia8\",\n",
    "    detector=\"Delphes\",\n",
    "    settings={\n",
    "        \"nevents\": 10000,\n",
    "        \"iseed\": 42,\n",
    "        \"htjmin\": 400,\n",
    "    },\n",
    ")\n",
    "background_generator = Madgraph5(\n",
    "    processes=\"p p > j j j / z\",\n",
    "    output_dir=\"./data/qcd\",\n",
    "    shower=\"Pythia8\",\n",
    "    detector=\"Delphes\",\n",
    "    settings={\n",
    "        \"nevents\": 10000,\n",
    "        \"iseed\": 42,\n",
    "        \"htjmin\": 400,\n",
    "    },\n",
    ")"
   ]
  },
  {
   "attachments": {},
   "cell_type": "markdown",
   "metadata": {},
   "source": [
    "We assume that we want to classify Z jets from ordinary QCD background, so two generators are defined.\n",
    "\n",
    "The parameters of `Madgraph5` class are almost the same as the CLI. There are only name changes to\n",
    "make it more clear and easy to understand. For example, `define` and `set` commands in CLI are\n",
    "`definitions` and `settings` here.\n",
    "\n",
    "After setting up generators, we can launch them to start generating events."
   ]
  },
  {
   "cell_type": "code",
   "execution_count": 3,
   "metadata": {},
   "outputs": [
    {
     "name": "stdout",
     "output_type": "stream",
     "text": [
      "Generating events...\n",
      "Running Pythia8...\n",
      "Running Delphes...\n",
      "Generating events...\n",
      "Running Pythia8...\n",
      "Running Delphes...\n"
     ]
    }
   ],
   "source": [
    "signal_generator.launch()\n",
    "background_generator.launch()"
   ]
  },
  {
   "attachments": {},
   "cell_type": "markdown",
   "metadata": {},
   "source": [
    "Note that the `launch` method of `Madgraph5` class is different from the CLI. It doesn't launch the\n",
    "prompts for tools and parameter ajustment which are now parts of `Madgraph5` parameters. Instead, it\n",
    "will directly begin the generation which is more convenient for automation.\n",
    "\n",
    "After the generation, let's check what we have got."
   ]
  },
  {
   "cell_type": "code",
   "execution_count": 4,
   "metadata": {},
   "outputs": [
    {
     "name": "stdout",
     "output_type": "stream",
     "text": [
      "cross section (pb): 30.950499999999998\n",
      "cross section (pb): 171411.19611000002\n",
      "number of events: 10000\n",
      "number of events: 10000\n"
     ]
    }
   ],
   "source": [
    "sig_run = signal_generator.runs[0]\n",
    "bkg_run = background_generator.runs[0]\n",
    "print(f\"cross section (pb): {sig_run.cross_section}\")\n",
    "print(f\"cross section (pb): {bkg_run.cross_section}\")\n",
    "print(f\"number of events: {sig_run.events.GetEntries()}\")\n",
    "print(f\"number of events: {bkg_run.events.GetEntries()}\")"
   ]
  },
  {
   "attachments": {},
   "cell_type": "markdown",
   "metadata": {},
   "source": [
    "As each launch is corresponding to a run directory in Madgraph5, `.runs` is a intuitively way to get\n",
    "all runs. Accessing cross setion is also simple via `.cross_section`. To access branches in the `.root`\n",
    "file, use `.events` to open the file and operate it with `pyROOT` APIs."
   ]
  }
 ],
 "metadata": {
  "kernelspec": {
   "display_name": "Python 3 (ipykernel)",
   "language": "python",
   "name": "python3"
  },
  "language_info": {
   "codemirror_mode": {
    "name": "ipython",
    "version": 3
   },
   "file_extension": ".py",
   "mimetype": "text/x-python",
   "name": "python",
   "nbconvert_exporter": "python",
   "pygments_lexer": "ipython3",
   "version": "3.8.16"
  },
  "orig_nbformat": 4
 },
 "nbformat": 4,
 "nbformat_minor": 2
}
