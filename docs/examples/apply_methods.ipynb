{
 "cells": [
  {
   "attachments": {},
   "cell_type": "markdown",
   "metadata": {},
   "source": [
    "# Apply methods\n",
    "\n",
    "In this notebook we will show how to load dataset saved in the previous notebook and apply cut-based\n",
    "analysis and boosted decision tree on it. Finally we use accuracy to evaluate their performance.\n",
    "\n",
    "## Introduction to built-in methods\n",
    "\n",
    "Currently there're three categories of built-in methods: cuts, trees, and (neural) networks.\n",
    "\n",
    "In a cut-based analysis, we apply a series of cuts on the input data to select as many signal events\n",
    "and as few background events as possible. Each cut reduces the number of background events and\n",
    "inevitably also signal events. The goal usually is to find a set of cuts that maximizes the significance\n",
    "$s/\\sqrt{s+b}$, where $s$ and $b$ are the number of remaining signal and background events, respectively.\n",
    "\n",
    "The boosted decision tree is one of trees methods. It is a machine learning method commonly used in\n",
    "high energy physics. The name \"boosted\" comes from the idea to combine weak classifiers into a strong\n",
    "one. \n",
    "\n",
    "There are also neural networks methods. They will be covered in the next version.\n",
    "\n",
    "First import necessary packages."
   ]
  },
  {
   "cell_type": "code",
   "execution_count": 1,
   "metadata": {},
   "outputs": [],
   "source": [
    "from hml.datasets import Dataset\n",
    "from hml.methods.cuts import CutBasedAnalysis\n",
    "from hml.methods.trees import BoostedDecisionTree\n",
    "import numpy as np\n",
    "from sklearn.metrics import accuracy_score"
   ]
  },
  {
   "attachments": {},
   "cell_type": "markdown",
   "metadata": {},
   "source": [
    "To load dataset, we use the class method `load` of `Dataset` class. The method takes the dataset\n",
    "directory as input and returns a `Dataset` object."
   ]
  },
  {
   "cell_type": "code",
   "execution_count": 2,
   "metadata": {},
   "outputs": [],
   "source": [
    "dataset = Dataset.load(\"./data/z_vs_qcd\")"
   ]
  },
  {
   "attachments": {},
   "cell_type": "markdown",
   "metadata": {},
   "source": [
    "Then we apply a boosted decision tree. It comes from `scikit-learn` package originally. The `compile`\n",
    "method takes loss function name, optimizer name, and a list of metrics as input. Here we use default\n",
    "parameters as in `scikit-learn`."
   ]
  },
  {
   "cell_type": "code",
   "execution_count": 3,
   "metadata": {},
   "outputs": [],
   "source": [
    "method1 = BoostedDecisionTree()\n",
    "method1.compile()\n",
    "method1.fit(dataset.data, dataset.target)"
   ]
  },
  {
   "cell_type": "code",
   "execution_count": 4,
   "metadata": {},
   "outputs": [
    {
     "data": {
      "text/plain": [
       "0.9834353173867358"
      ]
     },
     "execution_count": 4,
     "metadata": {},
     "output_type": "execute_result"
    }
   ],
   "source": [
    "y_true = dataset.target\n",
    "y_pred = method1.predict(dataset.data)\n",
    "accuracy_score(y_true, y_pred)"
   ]
  },
  {
   "attachments": {},
   "cell_type": "markdown",
   "metadata": {},
   "source": [
    "For a cut-based method, we use `CutBasedAnalysis` class. The same workflow goes here as well."
   ]
  },
  {
   "cell_type": "code",
   "execution_count": 5,
   "metadata": {},
   "outputs": [],
   "source": [
    "method2 = CutBasedAnalysis()\n",
    "method2.compile()\n",
    "method2.fit(dataset.data, dataset.target)"
   ]
  },
  {
   "cell_type": "code",
   "execution_count": 6,
   "metadata": {},
   "outputs": [
    {
     "data": {
      "text/plain": [
       "0.7319364608443043"
      ]
     },
     "execution_count": 6,
     "metadata": {},
     "output_type": "execute_result"
    }
   ],
   "source": [
    "y_true = dataset.target\n",
    "y_pred = method2.predict(dataset.data)\n",
    "accuracy_score(y_true, y_pred)"
   ]
  }
 ],
 "metadata": {
  "kernelspec": {
   "display_name": "Python 3 (ipykernel)",
   "language": "python",
   "name": "python3"
  },
  "orig_nbformat": 4
 },
 "nbformat": 4,
 "nbformat_minor": 2
}
