{
 "cells": [
  {
   "cell_type": "markdown",
   "metadata": {},
   "source": [
    "# Read events"
   ]
  },
  {
   "cell_type": "markdown",
   "metadata": {},
   "source": [
    "This guide shows how to read events via `Madgraph5` and `Madgraph5Run` classes."
   ]
  },
  {
   "cell_type": "markdown",
   "metadata": {},
   "source": [
    "## Setup"
   ]
  },
  {
   "cell_type": "code",
   "execution_count": 1,
   "metadata": {},
   "outputs": [],
   "source": [
    "from hml.generators import Madgraph5, Madgraph5Run"
   ]
  },
  {
   "cell_type": "markdown",
   "metadata": {},
   "source": [
    "## Use `Madgraph5`"
   ]
  },
  {
   "cell_type": "markdown",
   "metadata": {},
   "source": [
    "The class method `from_output` is used to rebuild a `Madgraph5` object from an existing output directory:"
   ]
  },
  {
   "cell_type": "code",
   "execution_count": 2,
   "metadata": {},
   "outputs": [],
   "source": [
    "g = Madgraph5.from_output(\"data/pp2ww\", executable=\"mg5_aMC\")"
   ]
  },
  {
   "cell_type": "markdown",
   "metadata": {},
   "source": [
    "To overview runs inside this output directory, use `summary` method:"
   ]
  },
  {
   "cell_type": "code",
   "execution_count": 3,
   "metadata": {},
   "outputs": [
    {
     "data": {
      "text/html": [
       "<pre style=\"white-space:pre;overflow-x:auto;line-height:normal;font-family:Menlo,'DejaVu Sans Mono',consolas,'Courier New',monospace\"><span style=\"font-style: italic\">                                       p p &gt; w+ w-                                       </span>\n",
       "┏━━━┳━━━━━━━━━━━┳━━━━━━━━━━━━━━━━━━┳━━━━━━━━━┳━━━━━━━━━━━━━━━━━━━━━━━━┳━━━━━━━━━━┳━━━━━━┓\n",
       "┃<span style=\"font-weight: bold\"> # </span>┃<span style=\"font-weight: bold\"> Name      </span>┃<span style=\"font-weight: bold\"> Collider         </span>┃<span style=\"font-weight: bold\"> Tag     </span>┃<span style=\"font-weight: bold\">   Cross section (pb)   </span>┃<span style=\"font-weight: bold\"> N events </span>┃<span style=\"font-weight: bold\"> Seed </span>┃\n",
       "┡━━━╇━━━━━━━━━━━╇━━━━━━━━━━━━━━━━━━╇━━━━━━━━━╇━━━━━━━━━━━━━━━━━━━━━━━━╇━━━━━━━━━━╇━━━━━━┩\n",
       "│ 0 │ run_01[1] │ pp:6500.0x6500.0 │ 250-300 │ 1.529e-01 +- 1.400e-03 │    1,000 │   42 │\n",
       "│ 1 │ run_02[1] │ pp:6500.0x6500.0 │ 300-350 │ 6.958e-02 +- 1.400e-03 │    1,000 │   42 │\n",
       "└───┴───────────┴──────────────────┴─────────┴────────────────────────┴──────────┴──────┘\n",
       "<span style=\"color: #7f7f7f; text-decoration-color: #7f7f7f; font-style: italic\">                                   Output: data/pp2ww                                    </span>\n",
       "</pre>\n"
      ],
      "text/plain": [
       "\u001b[3m                                       p p > w+ w-                                       \u001b[0m\n",
       "┏━━━┳━━━━━━━━━━━┳━━━━━━━━━━━━━━━━━━┳━━━━━━━━━┳━━━━━━━━━━━━━━━━━━━━━━━━┳━━━━━━━━━━┳━━━━━━┓\n",
       "┃\u001b[1m \u001b[0m\u001b[1m#\u001b[0m\u001b[1m \u001b[0m┃\u001b[1m \u001b[0m\u001b[1mName     \u001b[0m\u001b[1m \u001b[0m┃\u001b[1m \u001b[0m\u001b[1mCollider        \u001b[0m\u001b[1m \u001b[0m┃\u001b[1m \u001b[0m\u001b[1mTag    \u001b[0m\u001b[1m \u001b[0m┃\u001b[1m \u001b[0m\u001b[1m  Cross section (pb)  \u001b[0m\u001b[1m \u001b[0m┃\u001b[1m \u001b[0m\u001b[1mN events\u001b[0m\u001b[1m \u001b[0m┃\u001b[1m \u001b[0m\u001b[1mSeed\u001b[0m\u001b[1m \u001b[0m┃\n",
       "┡━━━╇━━━━━━━━━━━╇━━━━━━━━━━━━━━━━━━╇━━━━━━━━━╇━━━━━━━━━━━━━━━━━━━━━━━━╇━━━━━━━━━━╇━━━━━━┩\n",
       "│ 0 │ run_01[1] │ pp:6500.0x6500.0 │ 250-300 │ 1.529e-01 +- 1.400e-03 │    1,000 │   42 │\n",
       "│ 1 │ run_02[1] │ pp:6500.0x6500.0 │ 300-350 │ 6.958e-02 +- 1.400e-03 │    1,000 │   42 │\n",
       "└───┴───────────┴──────────────────┴─────────┴────────────────────────┴──────────┴──────┘\n",
       "\u001b[2;3m                                   Output: data/pp2ww                                    \u001b[0m\n"
      ]
     },
     "metadata": {},
     "output_type": "display_data"
    }
   ],
   "source": [
    "g.summary()"
   ]
  },
  {
   "cell_type": "markdown",
   "metadata": {},
   "source": [
    "Or you can use `runs` property to get a list of `Madgraph5Run` objects:"
   ]
  },
  {
   "cell_type": "code",
   "execution_count": 4,
   "metadata": {},
   "outputs": [
    {
     "data": {
      "text/plain": [
       "[Madgraph5Run run_01 (1 sub runs):\n",
       " - collider: pp:6500.0x6500.0\n",
       " - tag: 250-300\n",
       " - seed: 42\n",
       " - cross: 0.1529\n",
       " - error: 0.0014\n",
       " - n_events: 1000,\n",
       " Madgraph5Run run_02 (1 sub runs):\n",
       " - collider: pp:6500.0x6500.0\n",
       " - tag: 300-350\n",
       " - seed: 42\n",
       " - cross: 0.06958\n",
       " - error: 0.0014\n",
       " - n_events: 1000]"
      ]
     },
     "execution_count": 4,
     "metadata": {},
     "output_type": "execute_result"
    }
   ],
   "source": [
    "g.runs"
   ]
  },
  {
   "cell_type": "markdown",
   "metadata": {},
   "source": [
    "Index one run of your interest and use `events()` method to get the filepath:"
   ]
  },
  {
   "cell_type": "code",
   "execution_count": 5,
   "metadata": {},
   "outputs": [
    {
     "name": "stdout",
     "output_type": "stream",
     "text": [
      "['/root/workspace_ssd/projects/hep-ml-lab/docs/guides/data/pp2ww/Events/run_01_decayed_1/250-300_delphes_events.root:Delphes']\n"
     ]
    }
   ],
   "source": [
    "print(g.runs[0].events())"
   ]
  },
  {
   "cell_type": "markdown",
   "metadata": {},
   "source": [
    "Currently, it only supports `.root` files generated by `Delphes`."
   ]
  },
  {
   "cell_type": "markdown",
   "metadata": {},
   "source": [
    "## Use `Madgraph5Run`"
   ]
  },
  {
   "cell_type": "markdown",
   "metadata": {},
   "source": [
    "You can also use `Madgraph5Run` class to read events directly from a run directory:"
   ]
  },
  {
   "cell_type": "code",
   "execution_count": 6,
   "metadata": {},
   "outputs": [
    {
     "data": {
      "text/plain": [
       "Madgraph5Run run_02 (1 sub runs):\n",
       "- collider: pp:6500.0x6500.0\n",
       "- tag: 300-350\n",
       "- seed: 42\n",
       "- cross: 0.06958\n",
       "- error: 0.0014\n",
       "- n_events: 1000"
      ]
     },
     "execution_count": 6,
     "metadata": {},
     "output_type": "execute_result"
    }
   ],
   "source": [
    "run = Madgraph5Run(output_dir=\"data/pp2ww\", name=\"run_02\")\n",
    "run"
   ]
  },
  {
   "cell_type": "code",
   "execution_count": 7,
   "metadata": {},
   "outputs": [
    {
     "name": "stdout",
     "output_type": "stream",
     "text": [
      "run_02 has 1000 events\n"
     ]
    }
   ],
   "source": [
    "print(f\"{run.name} has {run.n_events} events\")"
   ]
  },
  {
   "cell_type": "markdown",
   "metadata": {},
   "source": [
    "This run has exactly one sub run due to the use of `decay` command in `Madgraph5`. Let's check it:"
   ]
  },
  {
   "cell_type": "code",
   "execution_count": 8,
   "metadata": {},
   "outputs": [
    {
     "data": {
      "text/plain": [
       "[Madgraph5Run run_02_decayed_1:\n",
       " - collider: pp:6500.0x6500.0\n",
       " - tag: 300-350\n",
       " - seed: 42\n",
       " - cross: 0.03094\n",
       " - error: 0.00064\n",
       " - n_events: 1000]"
      ]
     },
     "execution_count": 8,
     "metadata": {},
     "output_type": "execute_result"
    }
   ],
   "source": [
    "run.sub_runs"
   ]
  }
 ],
 "metadata": {
  "kernelspec": {
   "display_name": "hep-ml-lab-ZwsdfGvp-py3.10",
   "language": "python",
   "name": "python3"
  },
  "language_info": {
   "codemirror_mode": {
    "name": "ipython",
    "version": 3
   },
   "file_extension": ".py",
   "mimetype": "text/x-python",
   "name": "python",
   "nbconvert_exporter": "python",
   "pygments_lexer": "ipython3",
   "version": "3.11.5"
  }
 },
 "nbformat": 4,
 "nbformat_minor": 2
}
