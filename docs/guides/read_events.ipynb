{
 "cells": [
  {
   "cell_type": "markdown",
   "metadata": {},
   "source": [
    "# Read events"
   ]
  },
  {
   "cell_type": "markdown",
   "metadata": {},
   "source": [
    "This guide shows how to read events via `Madgraph5` and `Madgraph5Run` classes."
   ]
  },
  {
   "cell_type": "markdown",
   "metadata": {},
   "source": [
    "## Setup"
   ]
  },
  {
   "cell_type": "code",
   "execution_count": 1,
   "metadata": {},
   "outputs": [
    {
     "name": "stdout",
     "output_type": "stream",
     "text": [
      "Welcome to JupyROOT 6.26/14\n"
     ]
    }
   ],
   "source": [
    "from hml.generators import Madgraph5, Madgraph5Run"
   ]
  },
  {
   "cell_type": "markdown",
   "metadata": {},
   "source": [
    "## Use `Madgraph5`"
   ]
  },
  {
   "cell_type": "markdown",
   "metadata": {},
   "source": [
    "The class method `from_output` is used to rebuild a `Madgraph5` object from an existing output directory:"
   ]
  },
  {
   "cell_type": "code",
   "execution_count": 2,
   "metadata": {},
   "outputs": [],
   "source": [
    "g = Madgraph5.from_output(\"data/pp2zz_z2jj_z2vlvl\", executable=\"mg5_aMC\")"
   ]
  },
  {
   "cell_type": "markdown",
   "metadata": {},
   "source": [
    "To overview runs inside this output directory, use `summary` method:"
   ]
  },
  {
   "cell_type": "code",
   "execution_count": 3,
   "metadata": {},
   "outputs": [
    {
     "data": {
      "text/html": [
       "<pre style=\"white-space:pre;overflow-x:auto;line-height:normal;font-family:Menlo,'DejaVu Sans Mono',consolas,'Courier New',monospace\"><span style=\"font-style: italic\">                                       p p &gt; z z                                       </span>\n",
       "<span style=\"font-style: italic\">                                        z &gt; j j                                        </span>\n",
       "<span style=\"font-style: italic\">                                       z &gt; vl vl~                                      </span>\n",
       "┏━━━┳━━━━━━━━━━━┳━━━━━━━━━━━━━━━━━━┳━━━━━━━┳━━━━━━━━━━━━━━━━━━━━━━━━┳━━━━━━━━━━┳━━━━━━┓\n",
       "┃<span style=\"font-weight: bold\"> # </span>┃<span style=\"font-weight: bold\"> Name      </span>┃<span style=\"font-weight: bold\"> Collider         </span>┃<span style=\"font-weight: bold\"> Tag   </span>┃<span style=\"font-weight: bold\">   Cross section (pb)   </span>┃<span style=\"font-weight: bold\"> N events </span>┃<span style=\"font-weight: bold\"> Seed </span>┃\n",
       "┡━━━╇━━━━━━━━━━━╇━━━━━━━━━━━━━━━━━━╇━━━━━━━╇━━━━━━━━━━━━━━━━━━━━━━━━╇━━━━━━━━━━╇━━━━━━┩\n",
       "│ 0 │ run_01[0] │ pp:6500.0x6500.0 │ tag_1 │ 2.294e-03 +- 3.200e-05 │    1,000 │   21 │\n",
       "│ 1 │ run_02[2] │ pp:6500.0x6500.0 │ tag_1 │ 2.280e-03 +- 1.900e-05 │    2,000 │   27 │\n",
       "└───┴───────────┴──────────────────┴───────┴────────────────────────┴──────────┴──────┘\n",
       "<span style=\"color: #7f7f7f; text-decoration-color: #7f7f7f; font-style: italic\">                            Output: data/pp2zz_z2jj_z2vlvl                             </span>\n",
       "</pre>\n"
      ],
      "text/plain": [
       "\u001b[3m                                       p p > z z                                       \u001b[0m\n",
       "\u001b[3m                                        z > j j                                        \u001b[0m\n",
       "\u001b[3m                                       z > vl vl~                                      \u001b[0m\n",
       "┏━━━┳━━━━━━━━━━━┳━━━━━━━━━━━━━━━━━━┳━━━━━━━┳━━━━━━━━━━━━━━━━━━━━━━━━┳━━━━━━━━━━┳━━━━━━┓\n",
       "┃\u001b[1m \u001b[0m\u001b[1m#\u001b[0m\u001b[1m \u001b[0m┃\u001b[1m \u001b[0m\u001b[1mName     \u001b[0m\u001b[1m \u001b[0m┃\u001b[1m \u001b[0m\u001b[1mCollider        \u001b[0m\u001b[1m \u001b[0m┃\u001b[1m \u001b[0m\u001b[1mTag  \u001b[0m\u001b[1m \u001b[0m┃\u001b[1m \u001b[0m\u001b[1m  Cross section (pb)  \u001b[0m\u001b[1m \u001b[0m┃\u001b[1m \u001b[0m\u001b[1mN events\u001b[0m\u001b[1m \u001b[0m┃\u001b[1m \u001b[0m\u001b[1mSeed\u001b[0m\u001b[1m \u001b[0m┃\n",
       "┡━━━╇━━━━━━━━━━━╇━━━━━━━━━━━━━━━━━━╇━━━━━━━╇━━━━━━━━━━━━━━━━━━━━━━━━╇━━━━━━━━━━╇━━━━━━┩\n",
       "│ 0 │ run_01[0] │ pp:6500.0x6500.0 │ tag_1 │ 2.294e-03 +- 3.200e-05 │    1,000 │   21 │\n",
       "│ 1 │ run_02[2] │ pp:6500.0x6500.0 │ tag_1 │ 2.280e-03 +- 1.900e-05 │    2,000 │   27 │\n",
       "└───┴───────────┴──────────────────┴───────┴────────────────────────┴──────────┴──────┘\n",
       "\u001b[2;3m                            Output: data/pp2zz_z2jj_z2vlvl                             \u001b[0m\n"
      ]
     },
     "metadata": {},
     "output_type": "display_data"
    }
   ],
   "source": [
    "g.summary()"
   ]
  },
  {
   "cell_type": "markdown",
   "metadata": {},
   "source": [
    "Or you can use `runs` property to get a list of `Madgraph5Run` objects:"
   ]
  },
  {
   "cell_type": "code",
   "execution_count": 4,
   "metadata": {},
   "outputs": [
    {
     "data": {
      "text/plain": [
       "[Madgraph5Run run_01:\n",
       " - collider: pp:6500.0x6500.0\n",
       " - tag: tag_1\n",
       " - seed: 21\n",
       " - cross: 0.002294\n",
       " - error: 3.2e-05\n",
       " - n_events: 1000,\n",
       " Madgraph5Run run_02 (2 sub runs):\n",
       " - collider: pp:6500.0x6500.0\n",
       " - tag: tag_1\n",
       " - seed: 27\n",
       " - cross: 0.00228\n",
       " - error: 1.9e-05\n",
       " - n_events: 2000]"
      ]
     },
     "execution_count": 4,
     "metadata": {},
     "output_type": "execute_result"
    }
   ],
   "source": [
    "g.runs"
   ]
  },
  {
   "cell_type": "markdown",
   "metadata": {},
   "source": [
    "Index one run of your interest and use `events` method to read the events saved in the run:"
   ]
  },
  {
   "cell_type": "code",
   "execution_count": 6,
   "metadata": {},
   "outputs": [
    {
     "name": "stdout",
     "output_type": "stream",
     "text": [
      "There are 1000 events in the first run\n"
     ]
    }
   ],
   "source": [
    "events = g.runs[0].events()\n",
    "print(f\"There are {events.GetEntries()} events in the first run\")"
   ]
  },
  {
   "cell_type": "markdown",
   "metadata": {},
   "source": [
    "Currently `hml` only support events in root format."
   ]
  },
  {
   "cell_type": "markdown",
   "metadata": {},
   "source": [
    "## Use `Madgraph5Run`"
   ]
  },
  {
   "cell_type": "markdown",
   "metadata": {},
   "source": [
    "You can also use `Madgraph5Run` class to read events directly from a run directory:"
   ]
  },
  {
   "cell_type": "code",
   "execution_count": 11,
   "metadata": {},
   "outputs": [
    {
     "data": {
      "text/plain": [
       "Madgraph5Run run_02 (2 sub runs):\n",
       "- collider: pp:6500.0x6500.0\n",
       "- tag: tag_1\n",
       "- seed: 27\n",
       "- cross: 0.00228\n",
       "- error: 1.9e-05\n",
       "- n_events: 2000"
      ]
     },
     "execution_count": 11,
     "metadata": {},
     "output_type": "execute_result"
    }
   ],
   "source": [
    "run = Madgraph5Run(output_dir=\"data/pp2zz_z2jj_z2vlvl\", name=\"run_02\")\n",
    "run"
   ]
  },
  {
   "cell_type": "code",
   "execution_count": 13,
   "metadata": {},
   "outputs": [
    {
     "name": "stdout",
     "output_type": "stream",
     "text": [
      "run_02 has 2000 events\n"
     ]
    }
   ],
   "source": [
    "print(f\"{run.name} has {run.events().GetEntries()} events\")"
   ]
  },
  {
   "cell_type": "markdown",
   "metadata": {},
   "source": [
    "You may notice that this run has two sub-runs, which are `run_02_0` and `run_02_1`. They are generated by `multi_run 2` command in `MadEvent` (You can use `launch -i` command to enter the `MadEvent` CLI).\n",
    "\n",
    "If you want to fetch events from a specific sub-run, use `sub_runs` property:"
   ]
  },
  {
   "cell_type": "code",
   "execution_count": 10,
   "metadata": {},
   "outputs": [
    {
     "data": {
      "text/plain": [
       "[Madgraph5Run run_02_0:\n",
       " - collider: pp:6500.0x6500.0\n",
       " - tag: tag_1\n",
       " - seed: 27\n",
       " - cross: 0.002338\n",
       " - error: 3.1e-05\n",
       " - n_events: 1000,\n",
       " Madgraph5Run run_02_1:\n",
       " - collider: pp:6500.0x6500.0\n",
       " - tag: tag_1\n",
       " - seed: 33\n",
       " - cross: 0.002245\n",
       " - error: 2.4e-05\n",
       " - n_events: 1000]"
      ]
     },
     "execution_count": 10,
     "metadata": {},
     "output_type": "execute_result"
    }
   ],
   "source": [
    "run.sub_runs"
   ]
  },
  {
   "cell_type": "code",
   "execution_count": 14,
   "metadata": {},
   "outputs": [
    {
     "name": "stdout",
     "output_type": "stream",
     "text": [
      "run_02_0 has 1000 events\n"
     ]
    }
   ],
   "source": [
    "sub_run0 = run.sub_runs[0]\n",
    "print(f\"{sub_run0.name} has {sub_run0.events().GetEntries()} events\")"
   ]
  },
  {
   "cell_type": "markdown",
   "metadata": {},
   "source": [
    "Or just modify the name parameter of the `Madgraph5Run` class:"
   ]
  },
  {
   "cell_type": "code",
   "execution_count": 15,
   "metadata": {},
   "outputs": [
    {
     "data": {
      "text/plain": [
       "Madgraph5Run run_02_0:\n",
       "- collider: pp:6500.0x6500.0\n",
       "- tag: tag_1\n",
       "- seed: 27\n",
       "- cross: 0.002338\n",
       "- error: 3.1e-05\n",
       "- n_events: 1000"
      ]
     },
     "execution_count": 15,
     "metadata": {},
     "output_type": "execute_result"
    }
   ],
   "source": [
    "sub_run0 = Madgraph5Run(output_dir=\"data/pp2zz_z2jj_z2vlvl\", name=\"run_02_0\")\n",
    "sub_run0"
   ]
  },
  {
   "cell_type": "code",
   "execution_count": 16,
   "metadata": {},
   "outputs": [
    {
     "name": "stdout",
     "output_type": "stream",
     "text": [
      "run_02_0 has 1000 events\n"
     ]
    }
   ],
   "source": [
    "print(f\"{sub_run0.name} has {sub_run0.events().GetEntries()} events\")"
   ]
  }
 ],
 "metadata": {
  "kernelspec": {
   "display_name": "hep-ml-lab-ZwsdfGvp-py3.10",
   "language": "python",
   "name": "python3"
  },
  "language_info": {
   "codemirror_mode": {
    "name": "ipython",
    "version": 3
   },
   "file_extension": ".py",
   "mimetype": "text/x-python",
   "name": "python",
   "nbconvert_exporter": "python",
   "pygments_lexer": "ipython3",
   "version": "3.10.13"
  }
 },
 "nbformat": 4,
 "nbformat_minor": 2
}
