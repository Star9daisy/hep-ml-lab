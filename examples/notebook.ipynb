{
 "cells": [
  {
   "cell_type": "code",
   "execution_count": 1,
   "id": "9787f868-88eb-487d-9eb3-096a00ef0763",
   "metadata": {},
   "outputs": [
    {
     "name": "stdout",
     "output_type": "stream",
     "text": [
      "Welcome to JupyROOT 6.24/02\n"
     ]
    }
   ],
   "source": [
    "from hml.generators import Madgraph5"
   ]
  },
  {
   "cell_type": "code",
   "execution_count": 2,
   "id": "60ac85ca-e0bf-4c31-90c3-cd147e135b3b",
   "metadata": {},
   "outputs": [],
   "source": [
    "g = Madgraph5(\n",
    "    executable=\"mg5_aMC\",\n",
    "    processes=[\"p p > z z, z > j j, z > vl vl~\"],\n",
    "    output=\"data/pp2zz_z2jj_z2vlvl\",\n",
    "    shower=\"Pythia8\",\n",
    "    detector=\"Delphes\",\n",
    "    n_events=1000,\n",
    ")"
   ]
  },
  {
   "cell_type": "code",
   "execution_count": 3,
   "id": "df6b2660",
   "metadata": {},
   "outputs": [],
   "source": [
    "g.clean()"
   ]
  },
  {
   "cell_type": "code",
   "execution_count": 4,
   "id": "d6e275f5-c3ba-4efa-aec7-721633f7f62d",
   "metadata": {},
   "outputs": [
    {
     "name": "stdout",
     "output_type": "stream",
     "text": [
      "Generating events...\n",
      "Running Pythia8...\n",
      "Running Delphes...\n",
      "Storing files...\n",
      "Done\n"
     ]
    }
   ],
   "source": [
    "g.launch()"
   ]
  },
  {
   "cell_type": "code",
   "execution_count": 5,
   "id": "ff0acb8f",
   "metadata": {},
   "outputs": [
    {
     "data": {
      "text/html": [
       "<pre style=\"white-space:pre;overflow-x:auto;line-height:normal;font-family:Menlo,'DejaVu Sans Mono',consolas,'Courier New',monospace\"><span style=\"font-style: italic\">                  p p &gt; z z, z &gt; j j, z &gt; vl vl~                   </span>\n",
       "┏━━━┳━━━━━━━━━━┳━━━━━━━┳━━━━━━━━━━━━━━━━━━━━━━━━┳━━━━━━━━━━┳━━━━━━┓\n",
       "┃<span style=\"font-weight: bold\"> # </span>┃<span style=\"font-weight: bold\"> Name     </span>┃<span style=\"font-weight: bold\"> Tag   </span>┃<span style=\"font-weight: bold\">   Cross section (pb)   </span>┃<span style=\"font-weight: bold\"> N events </span>┃<span style=\"font-weight: bold\"> Seed </span>┃\n",
       "┡━━━╇━━━━━━━━━━╇━━━━━━━╇━━━━━━━━━━━━━━━━━━━━━━━━╇━━━━━━━━━━╇━━━━━━┩\n",
       "│ 0 │ run_1[1] │ tag_1 │ 1.989e+00 +- 1.324e-02 │    1,000 │   42 │\n",
       "└───┴──────────┴───────┴────────────────────────┴──────────┴──────┘\n",
       "<span style=\"color: #7f7f7f; text-decoration-color: #7f7f7f; font-style: italic\">                  Output: data/pp2zz_z2jj_z2vlvl                   </span>\n",
       "</pre>\n"
      ],
      "text/plain": [
       "\u001b[3m                  p p > z z, z > j j, z > vl vl~                   \u001b[0m\n",
       "┏━━━┳━━━━━━━━━━┳━━━━━━━┳━━━━━━━━━━━━━━━━━━━━━━━━┳━━━━━━━━━━┳━━━━━━┓\n",
       "┃\u001b[1m \u001b[0m\u001b[1m#\u001b[0m\u001b[1m \u001b[0m┃\u001b[1m \u001b[0m\u001b[1mName    \u001b[0m\u001b[1m \u001b[0m┃\u001b[1m \u001b[0m\u001b[1mTag  \u001b[0m\u001b[1m \u001b[0m┃\u001b[1m \u001b[0m\u001b[1m  Cross section (pb)  \u001b[0m\u001b[1m \u001b[0m┃\u001b[1m \u001b[0m\u001b[1mN events\u001b[0m\u001b[1m \u001b[0m┃\u001b[1m \u001b[0m\u001b[1mSeed\u001b[0m\u001b[1m \u001b[0m┃\n",
       "┡━━━╇━━━━━━━━━━╇━━━━━━━╇━━━━━━━━━━━━━━━━━━━━━━━━╇━━━━━━━━━━╇━━━━━━┩\n",
       "│ 0 │ run_1[1] │ tag_1 │ 1.989e+00 +- 1.324e-02 │    1,000 │   42 │\n",
       "└───┴──────────┴───────┴────────────────────────┴──────────┴──────┘\n",
       "\u001b[2;3m                  Output: data/pp2zz_z2jj_z2vlvl                   \u001b[0m\n"
      ]
     },
     "metadata": {},
     "output_type": "display_data"
    }
   ],
   "source": [
    "g.summary()"
   ]
  },
  {
   "cell_type": "code",
   "execution_count": 6,
   "id": "6a28767f",
   "metadata": {},
   "outputs": [
    {
     "data": {
      "text/html": [
       "<pre style=\"white-space:pre;overflow-x:auto;line-height:normal;font-family:Menlo,'DejaVu Sans Mono',consolas,'Courier New',monospace\"><span style=\"font-style: italic\">                       p p &gt; z z, z &gt; j j, z &gt; vl vl~                        </span>\n",
       "┏━━━┳━━━━━━━━━━┳━━━━━━━━━━━━━━━━━┳━━━━━━━━━━━━━━━━━━━━━━━━┳━━━━━━━━━━┳━━━━━━┓\n",
       "┃<span style=\"font-weight: bold\"> # </span>┃<span style=\"font-weight: bold\"> Name     </span>┃<span style=\"font-weight: bold\"> Tag             </span>┃<span style=\"font-weight: bold\">   Cross section (pb)   </span>┃<span style=\"font-weight: bold\"> N events </span>┃<span style=\"font-weight: bold\"> Seed </span>┃\n",
       "┡━━━╇━━━━━━━━━━╇━━━━━━━━━━━━━━━━━╇━━━━━━━━━━━━━━━━━━━━━━━━╇━━━━━━━━━━╇━━━━━━┩\n",
       "│ 0 │ run_1[1] │ tag_1           │ 1.989e+00 +- 1.324e-02 │    1,000 │   42 │\n",
       "│ 1 │ run_2[1] │ ptj=10,etaj=2.4 │ 1.956e+00 +- 1.537e-02 │    1,000 │  123 │\n",
       "└───┴──────────┴─────────────────┴────────────────────────┴──────────┴──────┘\n",
       "<span style=\"color: #7f7f7f; text-decoration-color: #7f7f7f; font-style: italic\">                       Output: data/pp2zz_z2jj_z2vlvl                        </span>\n",
       "</pre>\n"
      ],
      "text/plain": [
       "\u001b[3m                       p p > z z, z > j j, z > vl vl~                        \u001b[0m\n",
       "┏━━━┳━━━━━━━━━━┳━━━━━━━━━━━━━━━━━┳━━━━━━━━━━━━━━━━━━━━━━━━┳━━━━━━━━━━┳━━━━━━┓\n",
       "┃\u001b[1m \u001b[0m\u001b[1m#\u001b[0m\u001b[1m \u001b[0m┃\u001b[1m \u001b[0m\u001b[1mName    \u001b[0m\u001b[1m \u001b[0m┃\u001b[1m \u001b[0m\u001b[1mTag            \u001b[0m\u001b[1m \u001b[0m┃\u001b[1m \u001b[0m\u001b[1m  Cross section (pb)  \u001b[0m\u001b[1m \u001b[0m┃\u001b[1m \u001b[0m\u001b[1mN events\u001b[0m\u001b[1m \u001b[0m┃\u001b[1m \u001b[0m\u001b[1mSeed\u001b[0m\u001b[1m \u001b[0m┃\n",
       "┡━━━╇━━━━━━━━━━╇━━━━━━━━━━━━━━━━━╇━━━━━━━━━━━━━━━━━━━━━━━━╇━━━━━━━━━━╇━━━━━━┩\n",
       "│ 0 │ run_1[1] │ tag_1           │ 1.989e+00 +- 1.324e-02 │    1,000 │   42 │\n",
       "│ 1 │ run_2[1] │ ptj=10,etaj=2.4 │ 1.956e+00 +- 1.537e-02 │    1,000 │  123 │\n",
       "└───┴──────────┴─────────────────┴────────────────────────┴──────────┴──────┘\n",
       "\u001b[2;3m                       Output: data/pp2zz_z2jj_z2vlvl                        \u001b[0m\n"
      ]
     },
     "metadata": {},
     "output_type": "display_data"
    }
   ],
   "source": [
    "g.seed = 123\n",
    "g.tag = \"ptj=10,etaj=2.4\"\n",
    "g.settings[\"ptj\"] = 10\n",
    "g.settings[\"etaj\"] = 2.4\n",
    "\n",
    "g.launch(show_status=False)\n",
    "g.summary()"
   ]
  },
  {
   "cell_type": "code",
   "execution_count": 7,
   "id": "991a9f15",
   "metadata": {},
   "outputs": [
    {
     "name": "stdout",
     "output_type": "stream",
     "text": [
      "Name: run_2\n",
      "N Subruns: 1\n",
      "Tag: ptj=10,etaj=2.4\n",
      "Cross section: 1.95604\n",
      "Error: 0.015374662254501723\n",
      "N events: 1000\n",
      "Seed: 123\n"
     ]
    }
   ],
   "source": [
    "run = g.runs[1]\n",
    "print(\"Name:\", run.name)\n",
    "print(\"N Subruns:\", run.n_subruns)\n",
    "print(\"Tag:\", run.tag)\n",
    "print(\"Cross section:\", run.cross_section)\n",
    "print(\"Error:\", run.error)\n",
    "print(\"N events:\", run.n_events)\n",
    "print(\"Seed:\", run.seed)"
   ]
  },
  {
   "cell_type": "code",
   "execution_count": 8,
   "id": "7202b6f3",
   "metadata": {},
   "outputs": [
    {
     "name": "stdout",
     "output_type": "stream",
     "text": [
      "n_jets: 3\n",
      "n_fat_jets: 0\n"
     ]
    }
   ],
   "source": [
    "for event in run.events:\n",
    "    print(f\"n_jets: {event.Jet_size}\")\n",
    "    print(f\"n_fat_jets: {event.FatJet_size}\")\n",
    "    break"
   ]
  },
  {
   "cell_type": "code",
   "execution_count": 9,
   "id": "d95382b1",
   "metadata": {},
   "outputs": [
    {
     "data": {
      "text/html": [
       "<pre style=\"white-space:pre;overflow-x:auto;line-height:normal;font-family:Menlo,'DejaVu Sans Mono',consolas,'Courier New',monospace\"><span style=\"font-style: italic\">                       p p &gt; z z, z &gt; j j, z &gt; vl vl~                        </span>\n",
       "┏━━━┳━━━━━━━━━━┳━━━━━━━━━━━━━━━━━┳━━━━━━━━━━━━━━━━━━━━━━━━┳━━━━━━━━━━┳━━━━━━┓\n",
       "┃<span style=\"font-weight: bold\"> # </span>┃<span style=\"font-weight: bold\"> Name     </span>┃<span style=\"font-weight: bold\"> Tag             </span>┃<span style=\"font-weight: bold\">   Cross section (pb)   </span>┃<span style=\"font-weight: bold\"> N events </span>┃<span style=\"font-weight: bold\"> Seed </span>┃\n",
       "┡━━━╇━━━━━━━━━━╇━━━━━━━━━━━━━━━━━╇━━━━━━━━━━━━━━━━━━━━━━━━╇━━━━━━━━━━╇━━━━━━┩\n",
       "│ 0 │ run_2[1] │ ptj=10,etaj=2.4 │ 1.956e+00 +- 1.537e-02 │    1,000 │  123 │\n",
       "└───┴──────────┴─────────────────┴────────────────────────┴──────────┴──────┘\n",
       "<span style=\"color: #7f7f7f; text-decoration-color: #7f7f7f; font-style: italic\">                       Output: data/pp2zz_z2jj_z2vlvl                        </span>\n",
       "</pre>\n"
      ],
      "text/plain": [
       "\u001b[3m                       p p > z z, z > j j, z > vl vl~                        \u001b[0m\n",
       "┏━━━┳━━━━━━━━━━┳━━━━━━━━━━━━━━━━━┳━━━━━━━━━━━━━━━━━━━━━━━━┳━━━━━━━━━━┳━━━━━━┓\n",
       "┃\u001b[1m \u001b[0m\u001b[1m#\u001b[0m\u001b[1m \u001b[0m┃\u001b[1m \u001b[0m\u001b[1mName    \u001b[0m\u001b[1m \u001b[0m┃\u001b[1m \u001b[0m\u001b[1mTag            \u001b[0m\u001b[1m \u001b[0m┃\u001b[1m \u001b[0m\u001b[1m  Cross section (pb)  \u001b[0m\u001b[1m \u001b[0m┃\u001b[1m \u001b[0m\u001b[1mN events\u001b[0m\u001b[1m \u001b[0m┃\u001b[1m \u001b[0m\u001b[1mSeed\u001b[0m\u001b[1m \u001b[0m┃\n",
       "┡━━━╇━━━━━━━━━━╇━━━━━━━━━━━━━━━━━╇━━━━━━━━━━━━━━━━━━━━━━━━╇━━━━━━━━━━╇━━━━━━┩\n",
       "│ 0 │ run_2[1] │ ptj=10,etaj=2.4 │ 1.956e+00 +- 1.537e-02 │    1,000 │  123 │\n",
       "└───┴──────────┴─────────────────┴────────────────────────┴──────────┴──────┘\n",
       "\u001b[2;3m                       Output: data/pp2zz_z2jj_z2vlvl                        \u001b[0m\n"
      ]
     },
     "metadata": {},
     "output_type": "display_data"
    }
   ],
   "source": [
    "g.remove(\"run_1\") # remove the first run\n",
    "g.summary()"
   ]
  },
  {
   "cell_type": "code",
   "execution_count": 10,
   "id": "651d7050",
   "metadata": {},
   "outputs": [
    {
     "name": "stdout",
     "output_type": "stream",
     "text": [
      "Generating events...\n",
      "Running Pythia8...\n",
      "Running Delphes...\n",
      "Storing files...\n",
      "Done\n"
     ]
    }
   ],
   "source": [
    "g.launch()"
   ]
  },
  {
   "cell_type": "code",
   "execution_count": 13,
   "id": "6ac8cab7",
   "metadata": {},
   "outputs": [],
   "source": [
    "signal_generator = Madgraph5(\n",
    "    executable=\"mg5_aMC\",\n",
    "    processes=[\"p p > z z, z > j j, z > ve ve~\"],\n",
    "    output=\"./data/pp2zz\",\n",
    "    shower=\"Pythia8\",\n",
    "    detector=\"Delphes\",\n",
    "    settings={\"htjmin\": 400}\n",
    ")\n",
    "background_generator = Madgraph5(\n",
    "    executable=\"mg5_aMC\",\n",
    "    processes=[\"p p > j j / z\"],\n",
    "    output=\"./data/pp2jj\",\n",
    "    shower=\"Pythia8\",\n",
    "    detector=\"Delphes\",\n",
    "    settings={\"htjmin\": 400},\n",
    ")"
   ]
  },
  {
   "cell_type": "code",
   "execution_count": 14,
   "id": "b647c464",
   "metadata": {},
   "outputs": [
    {
     "data": {
      "text/html": [
       "<pre style=\"white-space:pre;overflow-x:auto;line-height:normal;font-family:Menlo,'DejaVu Sans Mono',consolas,'Courier New',monospace\"><span style=\"font-style: italic\">                  p p &gt; z z, z &gt; j j, z &gt; ve ve~                   </span>\n",
       "┏━━━┳━━━━━━━━━━┳━━━━━━━┳━━━━━━━━━━━━━━━━━━━━━━━━┳━━━━━━━━━━┳━━━━━━┓\n",
       "┃<span style=\"font-weight: bold\"> # </span>┃<span style=\"font-weight: bold\"> Name     </span>┃<span style=\"font-weight: bold\"> Tag   </span>┃<span style=\"font-weight: bold\">   Cross section (pb)   </span>┃<span style=\"font-weight: bold\"> N events </span>┃<span style=\"font-weight: bold\"> Seed </span>┃\n",
       "┡━━━╇━━━━━━━━━━╇━━━━━━━╇━━━━━━━━━━━━━━━━━━━━━━━━╇━━━━━━━━━━╇━━━━━━┩\n",
       "│ 0 │ run_1[1] │ tag_1 │ 7.703e-04 +- 3.118e-06 │   10,000 │   42 │\n",
       "└───┴──────────┴───────┴────────────────────────┴──────────┴──────┘\n",
       "<span style=\"color: #7f7f7f; text-decoration-color: #7f7f7f; font-style: italic\">                        Output: data/pp2zz                         </span>\n",
       "</pre>\n"
      ],
      "text/plain": [
       "\u001b[3m                  p p > z z, z > j j, z > ve ve~                   \u001b[0m\n",
       "┏━━━┳━━━━━━━━━━┳━━━━━━━┳━━━━━━━━━━━━━━━━━━━━━━━━┳━━━━━━━━━━┳━━━━━━┓\n",
       "┃\u001b[1m \u001b[0m\u001b[1m#\u001b[0m\u001b[1m \u001b[0m┃\u001b[1m \u001b[0m\u001b[1mName    \u001b[0m\u001b[1m \u001b[0m┃\u001b[1m \u001b[0m\u001b[1mTag  \u001b[0m\u001b[1m \u001b[0m┃\u001b[1m \u001b[0m\u001b[1m  Cross section (pb)  \u001b[0m\u001b[1m \u001b[0m┃\u001b[1m \u001b[0m\u001b[1mN events\u001b[0m\u001b[1m \u001b[0m┃\u001b[1m \u001b[0m\u001b[1mSeed\u001b[0m\u001b[1m \u001b[0m┃\n",
       "┡━━━╇━━━━━━━━━━╇━━━━━━━╇━━━━━━━━━━━━━━━━━━━━━━━━╇━━━━━━━━━━╇━━━━━━┩\n",
       "│ 0 │ run_1[1] │ tag_1 │ 7.703e-04 +- 3.118e-06 │   10,000 │   42 │\n",
       "└───┴──────────┴───────┴────────────────────────┴──────────┴──────┘\n",
       "\u001b[2;3m                        Output: data/pp2zz                         \u001b[0m\n"
      ]
     },
     "metadata": {},
     "output_type": "display_data"
    },
    {
     "data": {
      "text/html": [
       "<pre style=\"white-space:pre;overflow-x:auto;line-height:normal;font-family:Menlo,'DejaVu Sans Mono',consolas,'Courier New',monospace\"><span style=\"font-style: italic\">                           p p &gt; j j / z                           </span>\n",
       "┏━━━┳━━━━━━━━━━┳━━━━━━━┳━━━━━━━━━━━━━━━━━━━━━━━━┳━━━━━━━━━━┳━━━━━━┓\n",
       "┃<span style=\"font-weight: bold\"> # </span>┃<span style=\"font-weight: bold\"> Name     </span>┃<span style=\"font-weight: bold\"> Tag   </span>┃<span style=\"font-weight: bold\">   Cross section (pb)   </span>┃<span style=\"font-weight: bold\"> N events </span>┃<span style=\"font-weight: bold\"> Seed </span>┃\n",
       "┡━━━╇━━━━━━━━━━╇━━━━━━━╇━━━━━━━━━━━━━━━━━━━━━━━━╇━━━━━━━━━━╇━━━━━━┩\n",
       "│ 0 │ run_1[1] │ tag_1 │ 5.685e+04 +- 1.283e+02 │   10,000 │   42 │\n",
       "└───┴──────────┴───────┴────────────────────────┴──────────┴──────┘\n",
       "<span style=\"color: #7f7f7f; text-decoration-color: #7f7f7f; font-style: italic\">                        Output: data/pp2jj                         </span>\n",
       "</pre>\n"
      ],
      "text/plain": [
       "\u001b[3m                           p p > j j / z                           \u001b[0m\n",
       "┏━━━┳━━━━━━━━━━┳━━━━━━━┳━━━━━━━━━━━━━━━━━━━━━━━━┳━━━━━━━━━━┳━━━━━━┓\n",
       "┃\u001b[1m \u001b[0m\u001b[1m#\u001b[0m\u001b[1m \u001b[0m┃\u001b[1m \u001b[0m\u001b[1mName    \u001b[0m\u001b[1m \u001b[0m┃\u001b[1m \u001b[0m\u001b[1mTag  \u001b[0m\u001b[1m \u001b[0m┃\u001b[1m \u001b[0m\u001b[1m  Cross section (pb)  \u001b[0m\u001b[1m \u001b[0m┃\u001b[1m \u001b[0m\u001b[1mN events\u001b[0m\u001b[1m \u001b[0m┃\u001b[1m \u001b[0m\u001b[1mSeed\u001b[0m\u001b[1m \u001b[0m┃\n",
       "┡━━━╇━━━━━━━━━━╇━━━━━━━╇━━━━━━━━━━━━━━━━━━━━━━━━╇━━━━━━━━━━╇━━━━━━┩\n",
       "│ 0 │ run_1[1] │ tag_1 │ 5.685e+04 +- 1.283e+02 │   10,000 │   42 │\n",
       "└───┴──────────┴───────┴────────────────────────┴──────────┴──────┘\n",
       "\u001b[2;3m                        Output: data/pp2jj                         \u001b[0m\n"
      ]
     },
     "metadata": {},
     "output_type": "display_data"
    }
   ],
   "source": [
    "signal_generator.launch(show_status=False)\n",
    "signal_generator.summary()\n",
    "background_generator.launch(show_status=False)\n",
    "background_generator.summary()"
   ]
  },
  {
   "cell_type": "code",
   "execution_count": 15,
   "id": "f4bbbcda",
   "metadata": {},
   "outputs": [],
   "source": [
    "sig_run = signal_generator.runs[0]\n",
    "bkg_run = background_generator.runs[0]"
   ]
  },
  {
   "cell_type": "code",
   "execution_count": 16,
   "id": "3f4970ec",
   "metadata": {},
   "outputs": [],
   "source": [
    "from hml.representations import Set\n",
    "from hml.observables import Pt, M, DeltaR\n",
    "\n",
    "representation = Set(\n",
    "    [\n",
    "        Pt(\"Jet1\"),\n",
    "        Pt(\"Jet2\"),\n",
    "        DeltaR(\"Jet1\", \"Jet2\"),\n",
    "        M(\"FatJet1\"),\n",
    "    ]\n",
    ")"
   ]
  },
  {
   "cell_type": "code",
   "execution_count": 17,
   "id": "f1d6f506",
   "metadata": {},
   "outputs": [],
   "source": [
    "data, target = [], []\n",
    "\n",
    "for event in sig_run.events:\n",
    "    if event.Jet_size >= 2 and event.FatJet_size >= 1:\n",
    "        representation.from_event(event)\n",
    "        data.append(representation.values)\n",
    "        target.append(1)\n",
    "\n",
    "for event in bkg_run.events:\n",
    "    if event.Jet_size >= 2 and event.FatJet_size >= 1:\n",
    "        representation.from_event(event)\n",
    "        data.append(representation.values)\n",
    "        target.append(0)"
   ]
  },
  {
   "cell_type": "code",
   "execution_count": 18,
   "id": "c1e1a8b6",
   "metadata": {},
   "outputs": [],
   "source": [
    "import numpy as np\n",
    "from hml.datasets import Dataset\n",
    "\n",
    "\n",
    "data = np.array(data, dtype=np.float32)\n",
    "target = np.array(target, dtype=np.int32)\n",
    "\n",
    "dataset = Dataset(\n",
    "    data,\n",
    "    target,\n",
    "    feature_names=representation.names,\n",
    "    target_names=[\"pp2jj\", \"pp2zz\"],\n",
    "    description=\"Z vs QCD jets\",\n",
    "    dir_path=\"./data/z_vs_qcd\",\n",
    ")"
   ]
  },
  {
   "cell_type": "code",
   "execution_count": 19,
   "id": "0881fbb4",
   "metadata": {},
   "outputs": [],
   "source": [
    "dataset.save()"
   ]
  },
  {
   "cell_type": "code",
   "execution_count": 1,
   "id": "6e9f82a2",
   "metadata": {},
   "outputs": [],
   "source": [
    "from hml.datasets import Dataset\n",
    "from sklearn.model_selection import train_test_split\n",
    "from keras.utils import to_categorical"
   ]
  },
  {
   "cell_type": "code",
   "execution_count": 2,
   "id": "a280f672",
   "metadata": {},
   "outputs": [
    {
     "name": "stdout",
     "output_type": "stream",
     "text": [
      "> Train and test shapes:\n",
      "x_train shape: (12889, 4) y_train shape: (12889, 2)\n",
      "x_test shape: (3223, 4) y_test shape: (3223, 2)\n",
      "> target names: ['pp2jj', 'pp2zz']\n"
     ]
    }
   ],
   "source": [
    "# Split the data into training and testing sets\n",
    "dataset = Dataset.load(\"./data/z_vs_qcd\")\n",
    "\n",
    "x_train, x_test, y_train, y_test = train_test_split(\n",
    "    dataset.data, dataset.target, test_size=0.2, random_state=42\n",
    ")\n",
    "\n",
    "# Convert the labels to categorical\n",
    "y_train = to_categorical(y_train, dtype=\"int32\")\n",
    "y_test = to_categorical(y_test, dtype=\"int32\")\n",
    "\n",
    "# Show the shape of the training and testing sets\n",
    "print(\"> Train and test shapes:\")\n",
    "print(\"x_train shape:\", x_train.shape, \"y_train shape:\", y_train.shape)\n",
    "print(\"x_test shape:\", x_test.shape, \"y_test shape:\", y_test.shape)\n",
    "print(f\"> target names: {dataset.target_names}\")"
   ]
  },
  {
   "cell_type": "code",
   "execution_count": 3,
   "id": "841b98c5",
   "metadata": {},
   "outputs": [],
   "source": [
    "from hml.methods import CutAndCount, BoostedDecisionTree, ToyMLP\n",
    "from keras.losses import CategoricalCrossentropy\n",
    "from keras.metrics import CategoricalAccuracy\n",
    "from hml.metrics import MaxSignificance, RejectionAtEfficiency"
   ]
  },
  {
   "cell_type": "code",
   "execution_count": 4,
   "id": "3a706505",
   "metadata": {},
   "outputs": [
    {
     "name": "stdout",
     "output_type": "stream",
     "text": [
      "> Training model:\n",
      "Iter 1/10 - loss: 1.2124 - acc: 0.8815 - max_sig: 193.1740 - r50: 356.5397\n",
      "Iter 2/10 - loss: 1.0794 - acc: 0.9131 - max_sig: 254.9458 - r50: 122.9463\n",
      "Iter 3/10 - loss: 0.9685 - acc: 0.9283 - max_sig: 310.2836 - r50: 293.0483\n",
      "Iter 4/10 - loss: 0.8748 - acc: 0.9358 - max_sig: 354.9109 - r50: 180.5289\n",
      "Iter 5/10 - loss: 0.7942 - acc: 0.9413 - max_sig: 383.2777 - r50: 256.5062\n",
      "Iter 6/10 - loss: 0.7231 - acc: 0.9455 - max_sig: 418.4313 - r50: 270.7895\n",
      "Iter 7/10 - loss: 0.6598 - acc: 0.9492 - max_sig: 451.7975 - r50: 230.0276\n",
      "Iter 8/10 - loss: 0.6051 - acc: 0.9516 - max_sig: 489.0055 - r50: 352.1394\n",
      "Iter 9/10 - loss: 0.5573 - acc: 0.9538 - max_sig: 523.7005 - r50: 307.0688\n",
      "Iter 10/10 - loss: 0.5143 - acc: 0.9557 - max_sig: 556.1749 - r50: 367.5613\n"
     ]
    }
   ],
   "source": [
    "method1 = BoostedDecisionTree(n_estimators=10)\n",
    "method1.compile(\n",
    "    metrics=[\n",
    "        CategoricalAccuracy(name=\"acc\"),\n",
    "        MaxSignificance(name=\"max_sig\"),\n",
    "        RejectionAtEfficiency(name=\"r50\"),\n",
    "    ]\n",
    ")\n",
    "\n",
    "print(\"> Training model:\")\n",
    "history = method1.fit(x_train, y_train)"
   ]
  },
  {
   "cell_type": "code",
   "execution_count": 7,
   "id": "78542a52",
   "metadata": {},
   "outputs": [
    {
     "name": "stdout",
     "output_type": "stream",
     "text": [
      "> Training model:\n",
      "Cut 1/4 - loss: 2.0946 - acc: 0.8700 - max_sig: 109.0580 - r50: 7.3591\n",
      "Cut 2/4 - loss: 2.1672 - acc: 0.8678 - max_sig: 168.8623 - r50: 14.2052\n",
      "Cut 3/4 - loss: 3.7816 - acc: 0.8337 - max_sig: 204.4822 - r50: 21.2865\n",
      "Cut 4/4 - loss: 4.4206 - acc: 0.8067 - max_sig: 231.2802 - r50: 28.3538\n"
     ]
    }
   ],
   "source": [
    "method2 = CutAndCount()\n",
    "method2.compile(\n",
    "    loss=CategoricalCrossentropy(),\n",
    "    metrics=[\n",
    "        CategoricalAccuracy(name=\"acc\"),\n",
    "        MaxSignificance(name=\"max_sig\"),\n",
    "        RejectionAtEfficiency(name=\"r50\"),\n",
    "    ],\n",
    ")\n",
    "print(\"> Training model:\")\n",
    "history = method2.fit(x_train, y_train)"
   ]
  },
  {
   "cell_type": "code",
   "execution_count": 5,
   "id": "4256903f",
   "metadata": {},
   "outputs": [
    {
     "name": "stdout",
     "output_type": "stream",
     "text": [
      "> Training model:\n",
      "Epoch 1/10\n",
      "51/51 - 6s - loss: 1.4079 - acc: 0.8544 - max_sig: 125.3569 - r50: 17.0191 - 6s/epoch - 114ms/step\n",
      "Epoch 2/10\n",
      "51/51 - 1s - loss: 0.7214 - acc: 0.8857 - max_sig: 212.3330 - r50: 37.1405 - 888ms/epoch - 17ms/step\n",
      "Epoch 3/10\n",
      "51/51 - 1s - loss: 0.7479 - acc: 0.8806 - max_sig: 232.3429 - r50: 34.9558 - 841ms/epoch - 16ms/step\n",
      "Epoch 4/10\n",
      "51/51 - 1s - loss: 0.6934 - acc: 0.8820 - max_sig: 224.1893 - r50: 52.4336 - 882ms/epoch - 17ms/step\n",
      "Epoch 5/10\n",
      "51/51 - 1s - loss: 0.5860 - acc: 0.8959 - max_sig: 243.3809 - r50: 68.5670 - 874ms/epoch - 17ms/step\n",
      "Epoch 6/10\n",
      "51/51 - 1s - loss: 0.6265 - acc: 0.8904 - max_sig: 223.1910 - r50: 72.7648 - 847ms/epoch - 17ms/step\n",
      "Epoch 7/10\n",
      "51/51 - 1s - loss: 0.5457 - acc: 0.9022 - max_sig: 216.2077 - r50: 79.2329 - 830ms/epoch - 16ms/step\n",
      "Epoch 8/10\n",
      "51/51 - 1s - loss: 0.5250 - acc: 0.9019 - max_sig: 230.6327 - r50: 100.4355 - 860ms/epoch - 17ms/step\n",
      "Epoch 9/10\n",
      "51/51 - 1s - loss: 0.4902 - acc: 0.9090 - max_sig: 243.8243 - r50: 113.1893 - 858ms/epoch - 17ms/step\n",
      "Epoch 10/10\n",
      "51/51 - 1s - loss: 0.4611 - acc: 0.9078 - max_sig: 246.4039 - r50: 99.0404 - 851ms/epoch - 17ms/step\n"
     ]
    }
   ],
   "source": [
    "method3 = ToyMLP(input_shape=(x_train.shape[1],))\n",
    "method3.compile(\n",
    "    loss=CategoricalCrossentropy(),\n",
    "    metrics=[\n",
    "        CategoricalAccuracy(name=\"acc\"),\n",
    "        MaxSignificance(name=\"max_sig\"),\n",
    "        RejectionAtEfficiency(name=\"r50\"),\n",
    "    ],\n",
    ")\n",
    "\n",
    "print(\"> Training model:\")\n",
    "history = method3.fit(x_train, y_train, epochs=10, batch_size=256, verbose=2)"
   ]
  },
  {
   "cell_type": "code",
   "execution_count": 10,
   "id": "c7d35446",
   "metadata": {},
   "outputs": [
    {
     "name": "stdout",
     "output_type": "stream",
     "text": [
      "loss: 0.2572 - acc: 0.9568 - max_sig: 580.2705 - r50: 491.3567\n",
      "loss: 4.4158 - acc: 0.7977 - max_sig: 244.1590 - r50: 31.8965\n",
      "101/101 - 2s - loss: 0.2068 - acc: 0.9383 - max_sig: 112.4101 - r50: 161.9975 - 2s/epoch - 16ms/step\n"
     ]
    }
   ],
   "source": [
    "results1 = method1.evaluate(x_test, y_test)\n",
    "results2 = method2.evaluate(x_test, y_test)\n",
    "results3 = method3.evaluate(x_test, y_test, verbose=2)"
   ]
  },
  {
   "cell_type": "code",
   "execution_count": 11,
   "id": "1aba33b3",
   "metadata": {},
   "outputs": [
    {
     "data": {
      "text/html": [
       "<pre style=\"white-space:pre;overflow-x:auto;line-height:normal;font-family:Menlo,'DejaVu Sans Mono',consolas,'Courier New',monospace\">┏━━━━━━━━━━━━━┳━━━━━━━━┳━━━━━━━━┳━━━━━━━━━━┳━━━━━━━━━━┓\n",
       "┃<span style=\"font-weight: bold\"> name        </span>┃<span style=\"font-weight: bold\"> loss   </span>┃<span style=\"font-weight: bold\"> acc    </span>┃<span style=\"font-weight: bold\"> max_sig  </span>┃<span style=\"font-weight: bold\"> r50      </span>┃\n",
       "┡━━━━━━━━━━━━━╇━━━━━━━━╇━━━━━━━━╇━━━━━━━━━━╇━━━━━━━━━━┩\n",
       "│ BDT         │ 0.2572 │ 0.9568 │ 580.2705 │ 491.3567 │\n",
       "│ CutAndCount │ 4.4158 │ 0.7977 │ 244.1590 │ 31.8965  │\n",
       "│ ToyMLP      │ 0.2068 │ 0.9383 │ 112.4101 │ 161.9975 │\n",
       "└─────────────┴────────┴────────┴──────────┴──────────┘\n",
       "</pre>\n"
      ],
      "text/plain": [
       "┏━━━━━━━━━━━━━┳━━━━━━━━┳━━━━━━━━┳━━━━━━━━━━┳━━━━━━━━━━┓\n",
       "┃\u001b[1m \u001b[0m\u001b[1mname       \u001b[0m\u001b[1m \u001b[0m┃\u001b[1m \u001b[0m\u001b[1mloss  \u001b[0m\u001b[1m \u001b[0m┃\u001b[1m \u001b[0m\u001b[1macc   \u001b[0m\u001b[1m \u001b[0m┃\u001b[1m \u001b[0m\u001b[1mmax_sig \u001b[0m\u001b[1m \u001b[0m┃\u001b[1m \u001b[0m\u001b[1mr50     \u001b[0m\u001b[1m \u001b[0m┃\n",
       "┡━━━━━━━━━━━━━╇━━━━━━━━╇━━━━━━━━╇━━━━━━━━━━╇━━━━━━━━━━┩\n",
       "│ BDT         │ 0.2572 │ 0.9568 │ 580.2705 │ 491.3567 │\n",
       "│ CutAndCount │ 4.4158 │ 0.7977 │ 244.1590 │ 31.8965  │\n",
       "│ ToyMLP      │ 0.2068 │ 0.9383 │ 112.4101 │ 161.9975 │\n",
       "└─────────────┴────────┴────────┴──────────┴──────────┘\n"
      ]
     },
     "execution_count": 11,
     "metadata": {},
     "output_type": "execute_result"
    }
   ],
   "source": [
    "from rich.table import Table\n",
    "\n",
    "table = Table(\"name\", \"loss\", \"acc\", \"max_sig\", \"r50\")\n",
    "names = [\"BDT\", \"CutAndCount\", \"ToyMLP\"]\n",
    "for res, name in zip([results1, results2, results3], names):\n",
    "    table.add_row(name, *[f\"{v[0]:.4f}\" for v in res.values()])\n",
    "\n",
    "table"
   ]
  }
 ],
 "metadata": {
  "kernelspec": {
   "display_name": "Python 3 (ipykernel)",
   "language": "python",
   "name": "python3"
  }
 },
 "nbformat": 4,
 "nbformat_minor": 5
}
