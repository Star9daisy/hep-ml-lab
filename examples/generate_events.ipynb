{
 "cells": [
  {
   "cell_type": "code",
   "execution_count": 1,
   "metadata": {},
   "outputs": [],
   "source": [
    "from hml.generators import Madgraph5, Madgraph5Run"
   ]
  },
  {
   "cell_type": "markdown",
   "metadata": {},
   "source": [
    "## Initialization"
   ]
  },
  {
   "cell_type": "code",
   "execution_count": 2,
   "metadata": {},
   "outputs": [
    {
     "name": "stdout",
     "output_type": "stream",
     "text": [
      "\n",
      "************************************************************\n",
      "*                                                          *\n",
      "*                     W E L C O M E to                     *\n",
      "*              M A D G R A P H 5 _ a M C @ N L O           *\n",
      "*                                                          *\n",
      "*                                                          *\n",
      "*                 *                       *                *\n",
      "*                   *        * *        *                  *\n",
      "*                     * * * * 5 * * * *                    *\n",
      "*                   *        * *        *                  *\n",
      "*                 *                       *                *\n",
      "*                                                          *\n",
      "*         VERSION 3.5.3                 2023-12-23         *\n",
      "*                                                          *\n",
      "*    The MadGraph5_aMC@NLO Development Team - Find us at   *\n",
      "*              http://madgraph.phys.ucl.ac.be/             *\n",
      "*                            and                           *\n",
      "*            http://amcatnlo.web.cern.ch/amcatnlo/         *\n",
      "*                                                          *\n",
      "*               Type 'help' for in-line help.              *\n",
      "*           Type 'tutorial' to learn how MG5 works         *\n",
      "*    Type 'tutorial aMCatNLO' to learn how aMC@NLO works   *\n",
      "*    Type 'tutorial MadLoop' to learn how MadLoop works    *\n",
      "*                                                          *\n",
      "************************************************************\n",
      "load MG5 configuration from ../../../../softwares/madgraph5/input/mg5_configuration.txt \n",
      "fastjet-config does not seem to correspond to a valid fastjet-config executable (v3+). We will use fjcore instead.\n",
      " Please set the 'fastjet'variable to the full (absolute) /PATH/TO/fastjet-config (including fastjet-config).\n",
      " MG5_aMC> set fastjet /PATH/TO/fastjet-config\n",
      "\n",
      "eMELA-config does not seem to correspond to a valid eMELA-config executable.\n",
      " Please set the 'fastjet'variable to the full (absolute) /PATH/TO/eMELA-config (including eMELA-config).\n",
      " MG5_aMC> set eMELA /PATH/TO/eMELA-config\n",
      "\n",
      "set lhapdf to lhapdf-config\n",
      "set lhapdf to lhapdf-config\n",
      "Using default text editor \"vi\". Set another one in ./input/mg5_configuration.txt\n",
      "No valid eps viewer found. Please set in ./input/mg5_configuration.txt\n",
      "No valid web browser found. Please set in ./input/mg5_configuration.txt\n",
      "Loading default model: sm\n",
      "INFO: Restrict model sm with file ../../../../softwares/madgraph5/models/sm/restrict_default.dat . \n",
      "INFO: Run \"set stdout_level DEBUG\" before import for more information. \n",
      "INFO: Change particles name to pass to MG5 convention \n",
      "Defined multiparticle p = g u c d s u~ c~ d~ s~\n",
      "Defined multiparticle j = g u c d s u~ c~ d~ s~\n",
      "Defined multiparticle l+ = e+ mu+\n",
      "Defined multiparticle l- = e- mu-\n",
      "Defined multiparticle vl = ve vm vt\n",
      "Defined multiparticle vl~ = ve~ vm~ vt~\n",
      "Defined multiparticle all = g u c d s u~ c~ d~ s~ a ve vm vt e- mu- ve~ vm~ vt~ e+ mu+ t b t~ b~ z w+ h w- ta- ta+\n",
      "MG5_aMC>\n"
     ]
    }
   ],
   "source": [
    "g = Madgraph5(executable=\"mg5_aMC\", verbose=1)"
   ]
  },
  {
   "cell_type": "markdown",
   "metadata": {},
   "source": [
    "## Generate the process"
   ]
  },
  {
   "cell_type": "code",
   "execution_count": 3,
   "metadata": {},
   "outputs": [
    {
     "name": "stdout",
     "output_type": "stream",
     "text": [
      "generate p p > w+ z\n",
      "INFO: Checking for minimal orders which gives processes. \n",
      "INFO: Please specify coupling orders to bypass this step. \n",
      "INFO: Trying process: u d~ > w+ z WEIGHTED<=4 @1  \n",
      "INFO: Process has 3 diagrams \n",
      "INFO: Trying process: u s~ > w+ z WEIGHTED<=4 @1  \n",
      "INFO: Trying process: c d~ > w+ z WEIGHTED<=4 @1  \n",
      "INFO: Trying process: c s~ > w+ z WEIGHTED<=4 @1  \n",
      "INFO: Process has 3 diagrams \n",
      "INFO: Process d~ u > w+ z added to mirror process u d~ > w+ z \n",
      "INFO: Process s~ c > w+ z added to mirror process c s~ > w+ z \n",
      "2 processes with 6 diagrams generated in 0.026 s\n",
      "Total: 2 processes with 6 diagrams\n"
     ]
    }
   ],
   "source": [
    "g.generate(\"p p > w+ z\")"
   ]
  },
  {
   "cell_type": "code",
   "execution_count": 4,
   "metadata": {},
   "outputs": [],
   "source": [
    "# g.display_diagram()"
   ]
  },
  {
   "cell_type": "code",
   "execution_count": 5,
   "metadata": {},
   "outputs": [
    {
     "name": "stdout",
     "output_type": "stream",
     "text": [
      "output /root/workspace_ssd/projects/hep-ml-lab/examples/data/pp2wz\n",
      "INFO: initialize a new directory: pp2wz \n",
      "INFO: remove old information in pp2wz \n",
      "INFO: Organizing processes into subprocess groups \n",
      "INFO: Generating Helas calls for process: u d~ > w+ z WEIGHTED<=4 @1 \n",
      "INFO: Processing color information for process: u d~ > w+ z @1 \n",
      "INFO: Combined process c s~ > w+ z WEIGHTED<=4 @1 with process u d~ > w+ z WEIGHTED<=4 @1 \n",
      "INFO: Creating files in directory P1_qq_wpz \n",
      "INFO: Generating Feynman diagrams for Process: u d~ > w+ z WEIGHTED<=4 @1 \n",
      "INFO: Finding symmetric diagrams for subprocess group qq_wpz \n",
      "Generated helas calls for 1 subprocesses (3 diagrams) in 0.007 s\n",
      "Wrote files for 10 helas calls in 0.024 s\n",
      "ALOHA: aloha starts to compute helicity amplitudes\n",
      "ALOHA: aloha creates 4 routines in  0.745 s\n",
      "The option auto_update is modified [7] but will not be written in the configuration files.\n",
      "If you want to make this value the default for future session, you can run 'save options --all'\n",
      "save configuration file to /root/workspace_ssd/projects/hep-ml-lab/examples/data/pp2wz/Cards/me5_configuration.txt\n",
      "INFO: Use Fortran compiler gfortran \n",
      "INFO: Use c++ compiler g++ \n",
      "INFO: Generate jpeg diagrams \n",
      "INFO: Generate web pages \n",
      "Output to directory /root/workspace_ssd/projects/hep-ml-lab/examples/data/pp2wz done.\n",
      "Type \"launch\" to generate events from this process, or see\n",
      "/root/workspace_ssd/projects/hep-ml-lab/examples/data/pp2wz/README\n",
      "Run \"open index.html\" to see more information about this process.\n",
      "display diagrams /root/workspace_ssd/projects/hep-ml-lab/examples/data/pp2wz/Diagrams\n",
      "Drawing Process: u d~ > w+ z WEIGHTED<=4 @1\n",
      "Wrote file /root/workspace_ssd/projects/hep-ml-lab/examples/data/pp2wz/Diagrams/diagrams_1_udx_wpz.eps\n",
      "open /root/workspace_ssd/projects/hep-ml-lab/examples/data/pp2wz/Diagrams/diagrams_1_udx_wpz.eps\n",
      "\u001b[1;34mNot able to open file /root/workspace_ssd/projects/hep-ml-lab/examples/data/pp2wz/Diagrams/diagrams_1_udx_wpz.eps since no program configured.Please set one in ./input/mg5_configuration.txt\u001b[0m\n",
      "time to draw 0.005790233612060547\n",
      "Process log saved to data/pp2wz/Logs/process.log\n"
     ]
    }
   ],
   "source": [
    "g.output(\"data/pp2wz\")"
   ]
  },
  {
   "cell_type": "markdown",
   "metadata": {},
   "source": [
    "## Launch the first run"
   ]
  },
  {
   "cell_type": "code",
   "execution_count": 6,
   "metadata": {},
   "outputs": [
    {
     "name": "stdout",
     "output_type": "stream",
     "text": [
      "launch -i /root/workspace_ssd/projects/hep-ml-lab/examples/data/pp2wz\n",
      "************************************************************\n",
      "*                                                          *\n",
      "*                      W E L C O M E to                    *\n",
      "*             M A D G R A P H 5 _ a M C @ N L O            *\n",
      "*                      M A D E V E N T                     *\n",
      "*                                                          *\n",
      "*                 *                       *                *\n",
      "*                   *        * *        *                  *\n",
      "*                     * * * * 5 * * * *                    *\n",
      "*                   *        * *        *                  *\n",
      "*                 *                       *                *\n",
      "*                                                          *\n",
      "*         VERSION 3.5.3                 2023-12-23         *\n",
      "*                                                          *\n",
      "*    The MadGraph5_aMC@NLO Development Team - Find us at   *\n",
      "*    https://server06.fynu.ucl.ac.be/projects/madgraph     *\n",
      "*                                                          *\n",
      "*               Type 'help' for in-line help.              *\n",
      "*                                                          *\n",
      "************************************************************\n",
      "INFO: load configuration from /root/workspace_ssd/projects/hep-ml-lab/examples/data/pp2wz/Cards/me5_configuration.txt  \n",
      "INFO: load configuration from /root/softwares/madgraph5/input/mg5_configuration.txt  \n",
      "INFO: load configuration from /root/workspace_ssd/projects/hep-ml-lab/examples/data/pp2wz/Cards/me5_configuration.txt  \n",
      "Using default text editor \"vi\". Set another one in ./input/mg5_configuration.txt\n",
      "No valid eps viewer found. Please set in ./input/mg5_configuration.txt\n",
      "No valid web browser found. Please set in ./input/mg5_configuration.txt\n",
      "generate_events\n",
      "The following switches determine which programs are run:\n",
      "/===========================================================================\\\n",
      "| 1. Choose the shower/hadronization program   \u001b[1m  shower\u001b[0m = \u001b[31mOFF\u001b[0m               |\n",
      "| 2. Choose the detector simulation program    \u001b[1mdetector\u001b[0m = \u001b[31mOFF\u001b[0m               |\n",
      "| 3. Choose an analysis package (plot/convert) \u001b[1manalysis\u001b[0m = \u001b[01mNot Avail.\u001b[0m        |\n",
      "| 4. Decay onshell particles                   \u001b[1m madspin\u001b[0m = \u001b[31mOFF\u001b[0m               |\n",
      "| 5. Add weights to events for new hypp.       \u001b[1mreweight\u001b[0m = \u001b[31mOFF\u001b[0m               |\n",
      "\\===========================================================================/\n",
      "Either type the switch number (1 to 5) to change its setting,\n",
      "Set any switch explicitly (e.g. type 'shower=Pythia8' at the prompt)\n",
      "Type 'help' for the list of all valid option\n",
      "Type '0', 'auto', 'done' or just press enter when you are done.[60s to answer] \n",
      ">shower=pythia8\n",
      "The following switches determine which programs are run:\n",
      "/===========================================================================\\\n",
      "| 1. Choose the shower/hadronization program   \u001b[1m  shower\u001b[0m = \u001b[32mPythia8\u001b[0m           |\n",
      "| 2. Choose the detector simulation program    \u001b[1mdetector\u001b[0m = \u001b[31mOFF\u001b[0m               |\n",
      "| 3. Choose an analysis package (plot/convert) \u001b[1manalysis\u001b[0m = \u001b[01mNot Avail.\u001b[0m        |\n",
      "| 4. Decay onshell particles                   \u001b[1m madspin\u001b[0m = \u001b[31mOFF\u001b[0m               |\n",
      "| 5. Add weights to events for new hypp.       \u001b[1mreweight\u001b[0m = \u001b[31mOFF\u001b[0m               |\n",
      "\\===========================================================================/\n",
      "Either type the switch number (1 to 5) to change its setting,\n",
      "Set any switch explicitly (e.g. type 'shower=OFF' at the prompt)\n",
      "Type 'help' for the list of all valid option\n",
      "Type '0', 'auto', 'done' or just press enter when you are done.\n",
      ">detector=delphes\n",
      "The following switches determine which programs are run:\n",
      "/===========================================================================\\\n",
      "| 1. Choose the shower/hadronization program   \u001b[1m  shower\u001b[0m = \u001b[32mPythia8\u001b[0m           |\n",
      "| 2. Choose the detector simulation program    \u001b[1mdetector\u001b[0m = \u001b[32mDelphes\u001b[0m           |\n",
      "| 3. Choose an analysis package (plot/convert) \u001b[1manalysis\u001b[0m = \u001b[01mNot Avail.\u001b[0m        |\n",
      "| 4. Decay onshell particles                   \u001b[1m madspin\u001b[0m = \u001b[31mOFF\u001b[0m               |\n",
      "| 5. Add weights to events for new hypp.       \u001b[1mreweight\u001b[0m = \u001b[31mOFF\u001b[0m               |\n",
      "\\===========================================================================/\n",
      "Either type the switch number (1 to 5) to change its setting,\n",
      "Set any switch explicitly (e.g. type 'shower=OFF' at the prompt)\n",
      "Type 'help' for the list of all valid option\n",
      "Type '0', 'auto', 'done' or just press enter when you are done.\n",
      ">madspin=none\n",
      "The following switches determine which programs are run:\n",
      "/===========================================================================\\\n",
      "| 1. Choose the shower/hadronization program   \u001b[1m  shower\u001b[0m = \u001b[32mPythia8\u001b[0m           |\n",
      "| 2. Choose the detector simulation program    \u001b[1mdetector\u001b[0m = \u001b[32mDelphes\u001b[0m           |\n",
      "| 3. Choose an analysis package (plot/convert) \u001b[1manalysis\u001b[0m = \u001b[01mNot Avail.\u001b[0m        |\n",
      "| 4. Decay onshell particles                   \u001b[1m madspin\u001b[0m = \u001b[32mnone\u001b[0m              |\n",
      "| 5. Add weights to events for new hypp.       \u001b[1mreweight\u001b[0m = \u001b[31mOFF\u001b[0m               |\n",
      "\\===========================================================================/\n",
      "Either type the switch number (1 to 5) to change its setting,\n",
      "Set any switch explicitly (e.g. type 'shower=OFF' at the prompt)\n",
      "Type 'help' for the list of all valid option\n",
      "Type '0', 'auto', 'done' or just press enter when you are done.\n",
      ">done\n",
      "\u001b[1mINFO: writting at line 22 of the file madspin_card.dat the line: \"set spinmode none\" \u001b[0m\n",
      "Do you want to edit a card (press enter to bypass editing)?\n",
      "/------------------------------------------------------------\\\n",
      "|  \u001b[31m1\u001b[0m. param   : \u001b[32mparam_card.dat\u001b[0m                               |\n",
      "|  \u001b[31m2\u001b[0m. run     : \u001b[32mrun_card.dat\u001b[0m                                 |\n",
      "|  \u001b[31m3\u001b[0m. pythia8 : \u001b[32mpythia8_card.dat\u001b[0m                             |\n",
      "|  \u001b[31m4\u001b[0m. delphes : \u001b[32mdelphes_card.dat\u001b[0m                             |\n",
      "|  \u001b[31m5\u001b[0m. madspin : \u001b[32mmadspin_card.dat\u001b[0m                             |\n",
      "\\------------------------------------------------------------/\n",
      " you can also\n",
      "   - enter the path to a valid card or banner.\n",
      "   - use the 'set' command to modify a parameter directly.\n",
      "     The set option works only for param_card and run_card.\n",
      "     Type 'help set' for more information on this command.\n",
      "   - call an external program (ASperGE/MadWidth/...).\n",
      "     Type 'help' for the list of available command\n",
      " [\u001b[4m0\u001b[0m, done, 1, param, 2, run, 3, pythia8, 4, enter path, ... ][90s to answer] \n",
      ">set nevents 1000\n",
      "\u001b[1mINFO: modify parameter nevents of the run_card.dat to 1000 \u001b[0m\n",
      "Do you want to edit a card (press enter to bypass editing)?\n",
      "/------------------------------------------------------------\\\n",
      "|  \u001b[31m1\u001b[0m. param   : \u001b[32mparam_card.dat\u001b[0m                               |\n",
      "|  \u001b[31m2\u001b[0m. run     : \u001b[32mrun_card.dat\u001b[0m                                 |\n",
      "|  \u001b[31m3\u001b[0m. pythia8 : \u001b[32mpythia8_card.dat\u001b[0m                             |\n",
      "|  \u001b[31m4\u001b[0m. delphes : \u001b[32mdelphes_card.dat\u001b[0m                             |\n",
      "|  \u001b[31m5\u001b[0m. madspin : \u001b[32mmadspin_card.dat\u001b[0m                             |\n",
      "\\------------------------------------------------------------/\n",
      " you can also\n",
      "   - enter the path to a valid card or banner.\n",
      "   - use the 'set' command to modify a parameter directly.\n",
      "     The set option works only for param_card and run_card.\n",
      "     Type 'help set' for more information on this command.\n",
      "   - call an external program (ASperGE/MadWidth/...).\n",
      "     Type 'help' for the list of available command\n",
      " [\u001b[4m0\u001b[0m, done, 1, param, 2, run, 3, pythia8, 4, enter path, ... ] \n",
      ">set run_tag 250-300\n",
      "\u001b[1mINFO: modify parameter run_tag of the run_card.dat to 250-300 \u001b[0m\n",
      "Do you want to edit a card (press enter to bypass editing)?\n",
      "/------------------------------------------------------------\\\n",
      "|  \u001b[31m1\u001b[0m. param   : \u001b[32mparam_card.dat\u001b[0m                               |\n",
      "|  \u001b[31m2\u001b[0m. run     : \u001b[32mrun_card.dat\u001b[0m                                 |\n",
      "|  \u001b[31m3\u001b[0m. pythia8 : \u001b[32mpythia8_card.dat\u001b[0m                             |\n",
      "|  \u001b[31m4\u001b[0m. delphes : \u001b[32mdelphes_card.dat\u001b[0m                             |\n",
      "|  \u001b[31m5\u001b[0m. madspin : \u001b[32mmadspin_card.dat\u001b[0m                             |\n",
      "\\------------------------------------------------------------/\n",
      " you can also\n",
      "   - enter the path to a valid card or banner.\n",
      "   - use the 'set' command to modify a parameter directly.\n",
      "     The set option works only for param_card and run_card.\n",
      "     Type 'help set' for more information on this command.\n",
      "   - call an external program (ASperGE/MadWidth/...).\n",
      "     Type 'help' for the list of available command\n",
      " [\u001b[4m0\u001b[0m, done, 1, param, 2, run, 3, pythia8, 4, enter path, ... ] \n",
      ">set pt_min_pdg {24: 250}\n",
      "\u001b[1mINFO: modify parameter pt_min_pdg of the run_card.dat to {'24': 250.0} \u001b[0m\n",
      "Do you want to edit a card (press enter to bypass editing)?\n",
      "/------------------------------------------------------------\\\n",
      "|  \u001b[31m1\u001b[0m. param   : \u001b[32mparam_card.dat\u001b[0m                               |\n",
      "|  \u001b[31m2\u001b[0m. run     : \u001b[32mrun_card.dat\u001b[0m                                 |\n",
      "|  \u001b[31m3\u001b[0m. pythia8 : \u001b[32mpythia8_card.dat\u001b[0m                             |\n",
      "|  \u001b[31m4\u001b[0m. delphes : \u001b[32mdelphes_card.dat\u001b[0m                             |\n",
      "|  \u001b[31m5\u001b[0m. madspin : \u001b[32mmadspin_card.dat\u001b[0m                             |\n",
      "\\------------------------------------------------------------/\n",
      " you can also\n",
      "   - enter the path to a valid card or banner.\n",
      "   - use the 'set' command to modify a parameter directly.\n",
      "     The set option works only for param_card and run_card.\n",
      "     Type 'help set' for more information on this command.\n",
      "   - call an external program (ASperGE/MadWidth/...).\n",
      "     Type 'help' for the list of available command\n",
      " [\u001b[4m0\u001b[0m, done, 1, param, 2, run, 3, pythia8, 4, enter path, ... ] \n",
      ">set pt_max_pdg {24: 300}\n",
      "\u001b[1mINFO: modify parameter pt_max_pdg of the run_card.dat to {'24': 300.0} \u001b[0m\n",
      "Do you want to edit a card (press enter to bypass editing)?\n",
      "/------------------------------------------------------------\\\n",
      "|  \u001b[31m1\u001b[0m. param   : \u001b[32mparam_card.dat\u001b[0m                               |\n",
      "|  \u001b[31m2\u001b[0m. run     : \u001b[32mrun_card.dat\u001b[0m                                 |\n",
      "|  \u001b[31m3\u001b[0m. pythia8 : \u001b[32mpythia8_card.dat\u001b[0m                             |\n",
      "|  \u001b[31m4\u001b[0m. delphes : \u001b[32mdelphes_card.dat\u001b[0m                             |\n",
      "|  \u001b[31m5\u001b[0m. madspin : \u001b[32mmadspin_card.dat\u001b[0m                             |\n",
      "\\------------------------------------------------------------/\n",
      " you can also\n",
      "   - enter the path to a valid card or banner.\n",
      "   - use the 'set' command to modify a parameter directly.\n",
      "     The set option works only for param_card and run_card.\n",
      "     Type 'help set' for more information on this command.\n",
      "   - call an external program (ASperGE/MadWidth/...).\n",
      "     Type 'help' for the list of available command\n",
      " [\u001b[4m0\u001b[0m, done, 1, param, 2, run, 3, pythia8, 4, enter path, ... ] \n",
      ">set iseed 42\n",
      "\u001b[1mINFO: modify parameter iseed of the run_card.dat to 42 \u001b[0m\n",
      "Do you want to edit a card (press enter to bypass editing)?\n",
      "/------------------------------------------------------------\\\n",
      "|  \u001b[31m1\u001b[0m. param   : \u001b[32mparam_card.dat\u001b[0m                               |\n",
      "|  \u001b[31m2\u001b[0m. run     : \u001b[32mrun_card.dat\u001b[0m                                 |\n",
      "|  \u001b[31m3\u001b[0m. pythia8 : \u001b[32mpythia8_card.dat\u001b[0m                             |\n",
      "|  \u001b[31m4\u001b[0m. delphes : \u001b[32mdelphes_card.dat\u001b[0m                             |\n",
      "|  \u001b[31m5\u001b[0m. madspin : \u001b[32mmadspin_card.dat\u001b[0m                             |\n",
      "\\------------------------------------------------------------/\n",
      " you can also\n",
      "   - enter the path to a valid card or banner.\n",
      "   - use the 'set' command to modify a parameter directly.\n",
      "     The set option works only for param_card and run_card.\n",
      "     Type 'help set' for more information on this command.\n",
      "   - call an external program (ASperGE/MadWidth/...).\n",
      "     Type 'help' for the list of available command\n",
      " [\u001b[4m0\u001b[0m, done, 1, param, 2, run, 3, pythia8, 4, enter path, ... ] \n",
      ">decay w+ > j j\n",
      "\u001b[1mINFO: change madspin_card to define the decay of w+: w+ > j j \u001b[0m\n",
      "Do you want to edit a card (press enter to bypass editing)?\n",
      "/------------------------------------------------------------\\\n",
      "|  \u001b[31m1\u001b[0m. param   : \u001b[32mparam_card.dat\u001b[0m                               |\n",
      "|  \u001b[31m2\u001b[0m. run     : \u001b[32mrun_card.dat\u001b[0m                                 |\n",
      "|  \u001b[31m3\u001b[0m. pythia8 : \u001b[32mpythia8_card.dat\u001b[0m                             |\n",
      "|  \u001b[31m4\u001b[0m. delphes : \u001b[32mdelphes_card.dat\u001b[0m                             |\n",
      "|  \u001b[31m5\u001b[0m. madspin : \u001b[32mmadspin_card.dat\u001b[0m                             |\n",
      "\\------------------------------------------------------------/\n",
      " you can also\n",
      "   - enter the path to a valid card or banner.\n",
      "   - use the 'set' command to modify a parameter directly.\n",
      "     The set option works only for param_card and run_card.\n",
      "     Type 'help set' for more information on this command.\n",
      "   - call an external program (ASperGE/MadWidth/...).\n",
      "     Type 'help' for the list of available command\n",
      " [\u001b[4m0\u001b[0m, done, 1, param, 2, run, 3, pythia8, 4, enter path, ... ] \n",
      ">decay z > vl vl~\n",
      "\u001b[1mINFO: change madspin_card to define the decay of z: z > vl vl~ \u001b[0m\n",
      "Do you want to edit a card (press enter to bypass editing)?\n",
      "/------------------------------------------------------------\\\n",
      "|  \u001b[31m1\u001b[0m. param   : \u001b[32mparam_card.dat\u001b[0m                               |\n",
      "|  \u001b[31m2\u001b[0m. run     : \u001b[32mrun_card.dat\u001b[0m                                 |\n",
      "|  \u001b[31m3\u001b[0m. pythia8 : \u001b[32mpythia8_card.dat\u001b[0m                             |\n",
      "|  \u001b[31m4\u001b[0m. delphes : \u001b[32mdelphes_card.dat\u001b[0m                             |\n",
      "|  \u001b[31m5\u001b[0m. madspin : \u001b[32mmadspin_card.dat\u001b[0m                             |\n",
      "\\------------------------------------------------------------/\n",
      " you can also\n",
      "   - enter the path to a valid card or banner.\n",
      "   - use the 'set' command to modify a parameter directly.\n",
      "     The set option works only for param_card and run_card.\n",
      "     Type 'help set' for more information on this command.\n",
      "   - call an external program (ASperGE/MadWidth/...).\n",
      "     Type 'help' for the list of available command\n",
      " [\u001b[4m0\u001b[0m, done, 1, param, 2, run, 3, pythia8, 4, enter path, ... ] \n",
      ">/tmp/delphes_card_e9zaz3aa\n",
      "INFO: copy /tmp/delphes_card_e9zaz3aa as delphes_card.dat \n",
      "Do you want to edit a card (press enter to bypass editing)?\n",
      "/------------------------------------------------------------\\\n",
      "|  \u001b[31m1\u001b[0m. param   : \u001b[32mparam_card.dat\u001b[0m                               |\n",
      "|  \u001b[31m2\u001b[0m. run     : \u001b[32mrun_card.dat\u001b[0m                                 |\n",
      "|  \u001b[31m3\u001b[0m. pythia8 : \u001b[32mpythia8_card.dat\u001b[0m                             |\n",
      "|  \u001b[31m4\u001b[0m. delphes : \u001b[32mdelphes_card.dat\u001b[0m                             |\n",
      "|  \u001b[31m5\u001b[0m. madspin : \u001b[32mmadspin_card.dat\u001b[0m                             |\n",
      "\\------------------------------------------------------------/\n",
      " you can also\n",
      "   - enter the path to a valid card or banner.\n",
      "   - use the 'set' command to modify a parameter directly.\n",
      "     The set option works only for param_card and run_card.\n",
      "     Type 'help set' for more information on this command.\n",
      "   - call an external program (ASperGE/MadWidth/...).\n",
      "     Type 'help' for the list of available command\n",
      " [\u001b[4m0\u001b[0m, done, 1, param, 2, run, 3, pythia8, 4, enter path, ... ] \n",
      ">done\n",
      "INFO: Update the dependent parameter of the param_card.dat \n",
      "\u001b[1;34mWARNING: update the strong coupling value (alpha_s) to the value from the pdf selected: 0.13 \u001b[0m\n",
      "exit\n",
      "Generating 1000 events with run name run_01\n",
      "survey  run_01 \n",
      "INFO: compile directory \n",
      "\u001b[1;34mNot able to open file /root/workspace_ssd/projects/hep-ml-lab/examples/data/pp2wz/crossx.html since no program configured.Please set one in ./input/mg5_configuration.txt\u001b[0m\n",
      "compile Source Directory\n",
      "Using random number seed offset = 42\n",
      "INFO: Running Survey \n",
      "Creating Jobs\n",
      "Working on SubProcesses\n",
      "INFO: Compiling for process 1/1. \n",
      "INFO:     P1_qq_wpz  \n",
      "INFO:     P1_qq_wpz  \n",
      "INFO:  Idle: 1,  Running: 1,  Completed: 0 [ current time: 09h29 ] \n",
      "INFO:  Idle: 0,  Running: 1,  Completed: 1 [  0.31s  ] \n",
      "INFO:  Idle: 0,  Running: 0,  Completed: 2 [  0.55s  ] \n",
      "INFO: End survey \n",
      "refine 1000\n",
      "Creating Jobs\n",
      "INFO: Refine results to 1000 \n",
      "INFO: Generating 1000.0 unweighted events. \n",
      "sum of cpu time of last step: 1 seconds\n",
      "INFO: Effective Luminosity 27453.992256601483 pb^-1 \n",
      "INFO: need to improve 0 channels \n",
      "- Current estimate of cross-section: 0.043709490000000004 +- 0.00041996458773902595\n",
      "    P1_qq_wpz \n",
      "INFO:  Idle: 0,  Running: 0,  Completed: 0 [ current time: 09h29 ] \n",
      "INFO: Combining runs \n",
      "sum of cpu time of last step: 1 seconds\n",
      "INFO: finish refine \n",
      "refine 1000 --treshold=0.9\n",
      "No need for second refine due to stability of cross-section\n",
      "INFO: Combining Events \n",
      "combination of events done in 0.309908390045166 s \n",
      "  === Results Summary for run: run_01 tag: 250-300 ===\n",
      "\n",
      "     Cross-section :   0.04371 +- 0.00042 pb\n",
      "     Nb of events :  1000\n",
      " \n",
      "INFO: Running Systematics computation \n",
      "INFO: # Events generated with PDF: NNPDF23_lo_as_0130_qed (247000) \n",
      "INFO: # Will Compute 145 weights per event. \n",
      "INFO: # Currently at event 0 [elapsed time: 0.0036 s] \n",
      "INFO: #***************************************************************************\n",
      "#\n",
      "# original cross-section: 0.04370948999999976\n",
      "#     scale variation: +2.34% -2.52%\n",
      "#     central scheme variation: +0.0198% -4.07%\n",
      "# PDF variation: +4.77% -4.77%\n",
      "#\n",
      "# dynamical scheme # 1 : 0.0426687 +2.57% -2.67% # \\sum ET\n",
      "# dynamical scheme # 2 : 0.0426189 +2.58% -2.67% # \\sum\\sqrt{m^2+pt^2}\n",
      "# dynamical scheme # 3 : 0.0437181 +2.34% -2.51% # 0.5 \\sum\\sqrt{m^2+pt^2}\n",
      "# dynamical scheme # 4 : 0.0419312 +2.55% -2.64% # \\sqrt{\\hat s}\n",
      "#***************************************************************************\n",
      " \n",
      "INFO: End of systematics computation \n",
      "store_events\n",
      "INFO: Storing parton level results \n",
      "INFO: End Parton \n",
      "reweight -from_cards\n",
      "decay_events -from_cards\n",
      "INFO: Running MadSpin \n",
      "INFO: This functionality allows for the decay of resonances \n",
      "INFO: in a .lhe file, keeping track of the spin correlation effets. \n",
      "INFO: BE AWARE OF THE CURRENT LIMITATIONS: \n",
      "INFO:   (1) Only a succession of 2 body decay are currently allowed \n",
      "************************************************************\n",
      "*                                                          *\n",
      "*           W E L C O M E  to  M A D S P I N               *\n",
      "*                                                          *\n",
      "************************************************************\n",
      "INFO: Extracting the banner ... \n",
      "INFO: process: p p > w+ z \n",
      "INFO: options:  \n",
      "INFO: detected model: sm. Loading... \n",
      "set lhapdf to lhapdf-config\n",
      "set lhapdf to lhapdf-config\n",
      "Set group_subprocesses to Auto\n",
      "Note that you need to regenerate all processes\n",
      "set max_weight_ps_point 400  # number of PS to estimate the maximum for each event\n",
      "set spinmode none\n",
      "decay t > w+ b, w+ > all all\n",
      "decay t~ > w- b~, w- > all all\n",
      "decay w- > all all\n",
      "decay w+ > j j\n",
      "decay z > vl vl~\n",
      "launch\n",
      "INFO: Will use seed 610631604 \n",
      "INFO: generate 1000 decay event for particle w+ \n",
      "INFO: Will use seed 459704515 \n",
      "INFO: generate 1000 decay event for particle z \n",
      "decaying event number 100 [0.11598443984985352 s]\n",
      "decaying event number 200 [0.22530698776245117 s]\n",
      "decaying event number 300 [0.3330800533294678 s]\n",
      "decaying event number 400 [0.4411592483520508 s]\n",
      "decaying event number 500 [0.5493133068084717 s]\n",
      "decaying event number 600 [0.6569571495056152 s]\n",
      "decaying event number 700 [0.7662150859832764 s]\n",
      "decaying event number 800 [0.8735053539276123 s]\n",
      "decaying event number 900 [0.9814109802246094 s]\n",
      "INFO: The decayed event file has been moved to the following location:  \n",
      "INFO: /root/workspace_ssd/projects/hep-ml-lab/examples/data/pp2wz/Events/run_01_decayed_1/unweighted_events.lhe.gz \n",
      "INFO: MadSpin Done \n",
      "INFO: \u001b[92mRunning Pythia8 [arXiv:1410.3012]\u001b[0m \n",
      "Splitting .lhe event file for PY8 parallelization...\n",
      "Submitting Pythia8 jobs...\n",
      "Pythia8 shower jobs: 1 Idle, 9 Running, 0 Done [0 second]\n",
      "Pythia8 shower jobs: 0 Idle, 9 Running, 1 Done [3 seconds]\n",
      "Pythia8 shower jobs: 0 Idle, 8 Running, 2 Done [3 seconds]\n",
      "Pythia8 shower jobs: 0 Idle, 7 Running, 3 Done [4 seconds]\n",
      "Pythia8 shower jobs: 0 Idle, 6 Running, 4 Done [4 seconds]\n",
      "Pythia8 shower jobs: 0 Idle, 5 Running, 5 Done [4 seconds]\n",
      "Pythia8 shower jobs: 0 Idle, 4 Running, 6 Done [4 seconds]\n",
      "Pythia8 shower jobs: 0 Idle, 3 Running, 7 Done [4 seconds]\n",
      "Pythia8 shower jobs: 0 Idle, 2 Running, 8 Done [4 seconds]\n",
      "Pythia8 shower jobs: 0 Idle, 1 Running, 9 Done [4 seconds]\n",
      "Pythia8 shower jobs: 0 Idle, 0 Running, 10 Done [4 seconds]\n",
      "Merging results from the split PY8 runs...\n",
      "INFO: Pythia8 shower finished after 7 seconds. \n",
      "INFO: prepare delphes run \n",
      "INFO: Running Delphes \n",
      "INFO: If you are interested in lhco output. please run root2lhco converter. \n",
      "INFO:  or edit bin/internal/run_delphes3 to run the converter automatically. \n",
      "INFO: delphes done \n",
      "  === Results Summary for run: run_01_decayed_1 tag: 250-300 ===\n",
      "\n",
      "     Cross-section :   0.005941 +- 5.708e-05 pb\n",
      "     Nb of events :  1000\n",
      " \n",
      "INFO: storing files of previous run \n",
      "INFO: Storing Pythia8 files of previous run \n",
      "INFO: Done \n",
      "pp2wz>\n",
      "pp2wz>exit\n",
      "INFO:  \n",
      "Run log saved to data/pp2wz/Logs/run_01.log\n"
     ]
    }
   ],
   "source": [
    "g.launch(\n",
    "    shower=\"pythia8\",\n",
    "    detector=\"delphes\",\n",
    "    madspin=\"none\",\n",
    "    settings={\n",
    "        \"nevents\": 1000,\n",
    "        \"run_tag\": \"250-300\",\n",
    "        \"pt_min_pdg\": {24: 250},\n",
    "        \"pt_max_pdg\": {24: 300},\n",
    "    },\n",
    "    decays=[\n",
    "        \"w+ > j j\",\n",
    "        \"z > vl vl~\",\n",
    "    ],\n",
    "    seed=42,\n",
    ")"
   ]
  },
  {
   "cell_type": "markdown",
   "metadata": {},
   "source": [
    "## Check the information"
   ]
  },
  {
   "cell_type": "code",
   "execution_count": 7,
   "metadata": {},
   "outputs": [
    {
     "data": {
      "text/html": [
       "<pre style=\"white-space:pre;overflow-x:auto;line-height:normal;font-family:Menlo,'DejaVu Sans Mono',consolas,'Courier New',monospace\"><span style=\"font-style: italic\">                                       p p &gt; w+ z                                        </span>\n",
       "┏━━━┳━━━━━━━━━━━┳━━━━━━━━━━━━━━━━━━┳━━━━━━━━━┳━━━━━━━━━━━━━━━━━━━━━━━━┳━━━━━━━━━━┳━━━━━━┓\n",
       "┃<span style=\"font-weight: bold\"> # </span>┃<span style=\"font-weight: bold\"> Name      </span>┃<span style=\"font-weight: bold\"> Collider         </span>┃<span style=\"font-weight: bold\"> Tag     </span>┃<span style=\"font-weight: bold\">   Cross section (pb)   </span>┃<span style=\"font-weight: bold\"> N events </span>┃<span style=\"font-weight: bold\"> Seed </span>┃\n",
       "┡━━━╇━━━━━━━━━━━╇━━━━━━━━━━━━━━━━━━╇━━━━━━━━━╇━━━━━━━━━━━━━━━━━━━━━━━━╇━━━━━━━━━━╇━━━━━━┩\n",
       "│ 0 │ run_01[1] │ pp:6500.0x6500.0 │ 250-300 │ 4.371e-02 +- 4.200e-04 │    1,000 │   42 │\n",
       "└───┴───────────┴──────────────────┴─────────┴────────────────────────┴──────────┴──────┘\n",
       "<span style=\"color: #7f7f7f; text-decoration-color: #7f7f7f; font-style: italic\">                                   Output: data/pp2wz                                    </span>\n",
       "</pre>\n"
      ],
      "text/plain": [
       "\u001b[3m                                       p p > w+ z                                        \u001b[0m\n",
       "┏━━━┳━━━━━━━━━━━┳━━━━━━━━━━━━━━━━━━┳━━━━━━━━━┳━━━━━━━━━━━━━━━━━━━━━━━━┳━━━━━━━━━━┳━━━━━━┓\n",
       "┃\u001b[1m \u001b[0m\u001b[1m#\u001b[0m\u001b[1m \u001b[0m┃\u001b[1m \u001b[0m\u001b[1mName     \u001b[0m\u001b[1m \u001b[0m┃\u001b[1m \u001b[0m\u001b[1mCollider        \u001b[0m\u001b[1m \u001b[0m┃\u001b[1m \u001b[0m\u001b[1mTag    \u001b[0m\u001b[1m \u001b[0m┃\u001b[1m \u001b[0m\u001b[1m  Cross section (pb)  \u001b[0m\u001b[1m \u001b[0m┃\u001b[1m \u001b[0m\u001b[1mN events\u001b[0m\u001b[1m \u001b[0m┃\u001b[1m \u001b[0m\u001b[1mSeed\u001b[0m\u001b[1m \u001b[0m┃\n",
       "┡━━━╇━━━━━━━━━━━╇━━━━━━━━━━━━━━━━━━╇━━━━━━━━━╇━━━━━━━━━━━━━━━━━━━━━━━━╇━━━━━━━━━━╇━━━━━━┩\n",
       "│ 0 │ run_01[1] │ pp:6500.0x6500.0 │ 250-300 │ 4.371e-02 +- 4.200e-04 │    1,000 │   42 │\n",
       "└───┴───────────┴──────────────────┴─────────┴────────────────────────┴──────────┴──────┘\n",
       "\u001b[2;3m                                   Output: data/pp2wz                                    \u001b[0m\n"
      ]
     },
     "metadata": {},
     "output_type": "display_data"
    }
   ],
   "source": [
    "g.summary()"
   ]
  },
  {
   "cell_type": "code",
   "execution_count": 8,
   "metadata": {},
   "outputs": [
    {
     "name": "stdout",
     "output_type": "stream",
     "text": [
      "Processes: ['p p > w+ z']\n",
      "Name: run_01\n",
      "N subruns: 1\n",
      "Collider: pp:6500.0x6500.0\n",
      "Tag: 250-300\n",
      "Cross section: 0.04371\n",
      "Error: 0.00042\n",
      "N events: 1000\n",
      "Seed: 42\n"
     ]
    }
   ],
   "source": [
    "run_01 = g.runs[0]\n",
    "print(f\"Processes: {g.processes}\")\n",
    "print(f\"Name: {run_01.name}\")\n",
    "print(f\"N subruns: {len(run_01.sub_runs)}\")\n",
    "print(f\"Collider: {run_01.collider}\")\n",
    "print(f\"Tag: {run_01.tag}\")\n",
    "print(f\"Cross section: {run_01.cross}\")\n",
    "print(f\"Error: {run_01.error}\")\n",
    "print(f\"N events: {run_01.n_events}\")\n",
    "print(f\"Seed: {run_01.seed}\")"
   ]
  },
  {
   "cell_type": "code",
   "execution_count": 9,
   "metadata": {},
   "outputs": [
    {
     "data": {
      "text/plain": [
       "['/root/workspace_ssd/projects/hep-ml-lab/examples/data/pp2wz/Events/run_01_decayed_1/250-300_delphes_events.root:Delphes']"
      ]
     },
     "execution_count": 9,
     "metadata": {},
     "output_type": "execute_result"
    }
   ],
   "source": [
    "run_01.events()"
   ]
  },
  {
   "cell_type": "code",
   "execution_count": 10,
   "metadata": {},
   "outputs": [
    {
     "data": {
      "text/plain": [
       "<TTree 'Delphes' (34 branches) at 0x7f6a84cdf2d0>"
      ]
     },
     "execution_count": 10,
     "metadata": {},
     "output_type": "execute_result"
    }
   ],
   "source": [
    "import uproot\n",
    "\n",
    "events = uproot.open(run_01.events()[0])\n",
    "events"
   ]
  },
  {
   "cell_type": "markdown",
   "metadata": {},
   "source": [
    "## Launch more runs"
   ]
  },
  {
   "cell_type": "code",
   "execution_count": 11,
   "metadata": {},
   "outputs": [
    {
     "name": "stdout",
     "output_type": "stream",
     "text": [
      "Generating events between 300 and 350 GeV\n",
      "Generating events between 350 and 400 GeV\n",
      "Generating events between 400 and 450 GeV\n",
      "Generating events between 450 and 500 GeV\n"
     ]
    },
    {
     "data": {
      "text/html": [
       "<pre style=\"white-space:pre;overflow-x:auto;line-height:normal;font-family:Menlo,'DejaVu Sans Mono',consolas,'Courier New',monospace\"><span style=\"font-style: italic\">                                       p p &gt; w+ z                                        </span>\n",
       "┏━━━┳━━━━━━━━━━━┳━━━━━━━━━━━━━━━━━━┳━━━━━━━━━┳━━━━━━━━━━━━━━━━━━━━━━━━┳━━━━━━━━━━┳━━━━━━┓\n",
       "┃<span style=\"font-weight: bold\"> # </span>┃<span style=\"font-weight: bold\"> Name      </span>┃<span style=\"font-weight: bold\"> Collider         </span>┃<span style=\"font-weight: bold\"> Tag     </span>┃<span style=\"font-weight: bold\">   Cross section (pb)   </span>┃<span style=\"font-weight: bold\"> N events </span>┃<span style=\"font-weight: bold\"> Seed </span>┃\n",
       "┡━━━╇━━━━━━━━━━━╇━━━━━━━━━━━━━━━━━━╇━━━━━━━━━╇━━━━━━━━━━━━━━━━━━━━━━━━╇━━━━━━━━━━╇━━━━━━┩\n",
       "│ 0 │ run_01[1] │ pp:6500.0x6500.0 │ 250-300 │ 4.371e-02 +- 4.200e-04 │    1,000 │   42 │\n",
       "│ 1 │ run_02[1] │ pp:6500.0x6500.0 │ 300-350 │ 2.021e-02 +- 1.900e-04 │    1,000 │   42 │\n",
       "│ 2 │ run_03[1] │ pp:6500.0x6500.0 │ 350-400 │ 9.985e-03 +- 9.400e-05 │    1,000 │   42 │\n",
       "│ 3 │ run_04[1] │ pp:6500.0x6500.0 │ 400-450 │ 5.322e-03 +- 8.100e-05 │    1,000 │   42 │\n",
       "│ 4 │ run_05[1] │ pp:6500.0x6500.0 │ 450-500 │ 2.972e-03 +- 3.500e-05 │    1,000 │   42 │\n",
       "└───┴───────────┴──────────────────┴─────────┴────────────────────────┴──────────┴──────┘\n",
       "<span style=\"color: #7f7f7f; text-decoration-color: #7f7f7f; font-style: italic\">                                   Output: data/pp2wz                                    </span>\n",
       "</pre>\n"
      ],
      "text/plain": [
       "\u001b[3m                                       p p > w+ z                                        \u001b[0m\n",
       "┏━━━┳━━━━━━━━━━━┳━━━━━━━━━━━━━━━━━━┳━━━━━━━━━┳━━━━━━━━━━━━━━━━━━━━━━━━┳━━━━━━━━━━┳━━━━━━┓\n",
       "┃\u001b[1m \u001b[0m\u001b[1m#\u001b[0m\u001b[1m \u001b[0m┃\u001b[1m \u001b[0m\u001b[1mName     \u001b[0m\u001b[1m \u001b[0m┃\u001b[1m \u001b[0m\u001b[1mCollider        \u001b[0m\u001b[1m \u001b[0m┃\u001b[1m \u001b[0m\u001b[1mTag    \u001b[0m\u001b[1m \u001b[0m┃\u001b[1m \u001b[0m\u001b[1m  Cross section (pb)  \u001b[0m\u001b[1m \u001b[0m┃\u001b[1m \u001b[0m\u001b[1mN events\u001b[0m\u001b[1m \u001b[0m┃\u001b[1m \u001b[0m\u001b[1mSeed\u001b[0m\u001b[1m \u001b[0m┃\n",
       "┡━━━╇━━━━━━━━━━━╇━━━━━━━━━━━━━━━━━━╇━━━━━━━━━╇━━━━━━━━━━━━━━━━━━━━━━━━╇━━━━━━━━━━╇━━━━━━┩\n",
       "│ 0 │ run_01[1] │ pp:6500.0x6500.0 │ 250-300 │ 4.371e-02 +- 4.200e-04 │    1,000 │   42 │\n",
       "│ 1 │ run_02[1] │ pp:6500.0x6500.0 │ 300-350 │ 2.021e-02 +- 1.900e-04 │    1,000 │   42 │\n",
       "│ 2 │ run_03[1] │ pp:6500.0x6500.0 │ 350-400 │ 9.985e-03 +- 9.400e-05 │    1,000 │   42 │\n",
       "│ 3 │ run_04[1] │ pp:6500.0x6500.0 │ 400-450 │ 5.322e-03 +- 8.100e-05 │    1,000 │   42 │\n",
       "│ 4 │ run_05[1] │ pp:6500.0x6500.0 │ 450-500 │ 2.972e-03 +- 3.500e-05 │    1,000 │   42 │\n",
       "└───┴───────────┴──────────────────┴─────────┴────────────────────────┴──────────┴──────┘\n",
       "\u001b[2;3m                                   Output: data/pp2wz                                    \u001b[0m\n"
      ]
     },
     "metadata": {},
     "output_type": "display_data"
    }
   ],
   "source": [
    "low_limits = [300, 350, 400, 450]\n",
    "high_limits = [350, 400, 450, 500]\n",
    "\n",
    "g.verbose = 0\n",
    "\n",
    "for low, high in zip(low_limits, high_limits):\n",
    "    print(f\"Generating events between {low} and {high} GeV\")\n",
    "    g.launch(\n",
    "        shower=\"pythia8\",\n",
    "        detector=\"delphes\",\n",
    "        madspin=\"none\",\n",
    "        settings={\n",
    "            \"nevents\": 1000,\n",
    "            \"run_tag\": f\"{low}-{high}\",\n",
    "            \"pt_min_pdg\": {24: low},\n",
    "            \"pt_max_pdg\": {24: high},\n",
    "        },\n",
    "        decays=[\n",
    "            \"w+ > j j\",\n",
    "            \"z > vl vl~\",\n",
    "        ],\n",
    "        seed=42,\n",
    "    )\n",
    "\n",
    "g.summary()"
   ]
  },
  {
   "cell_type": "markdown",
   "metadata": {},
   "source": [
    "## Build a binary classification task"
   ]
  },
  {
   "cell_type": "code",
   "execution_count": 12,
   "metadata": {},
   "outputs": [
    {
     "data": {
      "text/html": [
       "<pre style=\"white-space:pre;overflow-x:auto;line-height:normal;font-family:Menlo,'DejaVu Sans Mono',consolas,'Courier New',monospace\"><span style=\"font-style: italic\">                                      p p &gt; w+ z                                       </span>\n",
       "┏━━━┳━━━━━━━━━━━┳━━━━━━━━━━━━━━━━━━┳━━━━━━━┳━━━━━━━━━━━━━━━━━━━━━━━━┳━━━━━━━━━━┳━━━━━━┓\n",
       "┃<span style=\"font-weight: bold\"> # </span>┃<span style=\"font-weight: bold\"> Name      </span>┃<span style=\"font-weight: bold\"> Collider         </span>┃<span style=\"font-weight: bold\"> Tag   </span>┃<span style=\"font-weight: bold\">   Cross section (pb)   </span>┃<span style=\"font-weight: bold\"> N events </span>┃<span style=\"font-weight: bold\"> Seed </span>┃\n",
       "┡━━━╇━━━━━━━━━━━╇━━━━━━━━━━━━━━━━━━╇━━━━━━━╇━━━━━━━━━━━━━━━━━━━━━━━━╇━━━━━━━━━━╇━━━━━━┩\n",
       "│ 0 │ run_01[1] │ pp:6500.0x6500.0 │ tag_1 │ 4.375e-02 +- 1.400e-04 │   10,000 │   42 │\n",
       "└───┴───────────┴──────────────────┴───────┴────────────────────────┴──────────┴──────┘\n",
       "<span style=\"color: #7f7f7f; text-decoration-color: #7f7f7f; font-style: italic\">                                Output: data/pp2wz@10k                                 </span>\n",
       "</pre>\n"
      ],
      "text/plain": [
       "\u001b[3m                                      p p > w+ z                                       \u001b[0m\n",
       "┏━━━┳━━━━━━━━━━━┳━━━━━━━━━━━━━━━━━━┳━━━━━━━┳━━━━━━━━━━━━━━━━━━━━━━━━┳━━━━━━━━━━┳━━━━━━┓\n",
       "┃\u001b[1m \u001b[0m\u001b[1m#\u001b[0m\u001b[1m \u001b[0m┃\u001b[1m \u001b[0m\u001b[1mName     \u001b[0m\u001b[1m \u001b[0m┃\u001b[1m \u001b[0m\u001b[1mCollider        \u001b[0m\u001b[1m \u001b[0m┃\u001b[1m \u001b[0m\u001b[1mTag  \u001b[0m\u001b[1m \u001b[0m┃\u001b[1m \u001b[0m\u001b[1m  Cross section (pb)  \u001b[0m\u001b[1m \u001b[0m┃\u001b[1m \u001b[0m\u001b[1mN events\u001b[0m\u001b[1m \u001b[0m┃\u001b[1m \u001b[0m\u001b[1mSeed\u001b[0m\u001b[1m \u001b[0m┃\n",
       "┡━━━╇━━━━━━━━━━━╇━━━━━━━━━━━━━━━━━━╇━━━━━━━╇━━━━━━━━━━━━━━━━━━━━━━━━╇━━━━━━━━━━╇━━━━━━┩\n",
       "│ 0 │ run_01[1] │ pp:6500.0x6500.0 │ tag_1 │ 4.375e-02 +- 1.400e-04 │   10,000 │   42 │\n",
       "└───┴───────────┴──────────────────┴───────┴────────────────────────┴──────────┴──────┘\n",
       "\u001b[2;3m                                Output: data/pp2wz@10k                                 \u001b[0m\n"
      ]
     },
     "metadata": {},
     "output_type": "display_data"
    }
   ],
   "source": [
    "wz = Madgraph5(executable=\"mg5_aMC\", verbose=0)\n",
    "\n",
    "wz.generate(\"p p > w+ z\")\n",
    "wz.output(\"data/pp2wz@10k\")\n",
    "wz.launch(\n",
    "    shower=\"pythia8\",\n",
    "    detector=\"delphes\",\n",
    "    madspin=\"none\",\n",
    "    settings={\n",
    "        \"nevents\": 10000,\n",
    "        \"pt_min_pdg\": {24: 250},\n",
    "        \"pt_max_pdg\": {24: 300},\n",
    "    },\n",
    "    decays=[\n",
    "        \"w+ > j j\",\n",
    "        \"z > vl vl~\",\n",
    "    ],\n",
    "    seed=42,\n",
    ")\n",
    "\n",
    "wz.summary()"
   ]
  },
  {
   "cell_type": "code",
   "execution_count": 13,
   "metadata": {},
   "outputs": [
    {
     "data": {
      "text/html": [
       "<pre style=\"white-space:pre;overflow-x:auto;line-height:normal;font-family:Menlo,'DejaVu Sans Mono',consolas,'Courier New',monospace\"><span style=\"font-style: italic\">                                       p p &gt; j j                                       </span>\n",
       "┏━━━┳━━━━━━━━━━━┳━━━━━━━━━━━━━━━━━━┳━━━━━━━┳━━━━━━━━━━━━━━━━━━━━━━━━┳━━━━━━━━━━┳━━━━━━┓\n",
       "┃<span style=\"font-weight: bold\"> # </span>┃<span style=\"font-weight: bold\"> Name      </span>┃<span style=\"font-weight: bold\"> Collider         </span>┃<span style=\"font-weight: bold\"> Tag   </span>┃<span style=\"font-weight: bold\">   Cross section (pb)   </span>┃<span style=\"font-weight: bold\"> N events </span>┃<span style=\"font-weight: bold\"> Seed </span>┃\n",
       "┡━━━╇━━━━━━━━━━━╇━━━━━━━━━━━━━━━━━━╇━━━━━━━╇━━━━━━━━━━━━━━━━━━━━━━━━╇━━━━━━━━━━╇━━━━━━┩\n",
       "│ 0 │ run_01[0] │ pp:6500.0x6500.0 │ tag_1 │ 1.161e+04 +- 4.000e+01 │   10,000 │   42 │\n",
       "└───┴───────────┴──────────────────┴───────┴────────────────────────┴──────────┴──────┘\n",
       "<span style=\"color: #7f7f7f; text-decoration-color: #7f7f7f; font-style: italic\">                                Output: data/pp2jj@10k                                 </span>\n",
       "</pre>\n"
      ],
      "text/plain": [
       "\u001b[3m                                       p p > j j                                       \u001b[0m\n",
       "┏━━━┳━━━━━━━━━━━┳━━━━━━━━━━━━━━━━━━┳━━━━━━━┳━━━━━━━━━━━━━━━━━━━━━━━━┳━━━━━━━━━━┳━━━━━━┓\n",
       "┃\u001b[1m \u001b[0m\u001b[1m#\u001b[0m\u001b[1m \u001b[0m┃\u001b[1m \u001b[0m\u001b[1mName     \u001b[0m\u001b[1m \u001b[0m┃\u001b[1m \u001b[0m\u001b[1mCollider        \u001b[0m\u001b[1m \u001b[0m┃\u001b[1m \u001b[0m\u001b[1mTag  \u001b[0m\u001b[1m \u001b[0m┃\u001b[1m \u001b[0m\u001b[1m  Cross section (pb)  \u001b[0m\u001b[1m \u001b[0m┃\u001b[1m \u001b[0m\u001b[1mN events\u001b[0m\u001b[1m \u001b[0m┃\u001b[1m \u001b[0m\u001b[1mSeed\u001b[0m\u001b[1m \u001b[0m┃\n",
       "┡━━━╇━━━━━━━━━━━╇━━━━━━━━━━━━━━━━━━╇━━━━━━━╇━━━━━━━━━━━━━━━━━━━━━━━━╇━━━━━━━━━━╇━━━━━━┩\n",
       "│ 0 │ run_01[0] │ pp:6500.0x6500.0 │ tag_1 │ 1.161e+04 +- 4.000e+01 │   10,000 │   42 │\n",
       "└───┴───────────┴──────────────────┴───────┴────────────────────────┴──────────┴──────┘\n",
       "\u001b[2;3m                                Output: data/pp2jj@10k                                 \u001b[0m\n"
      ]
     },
     "metadata": {},
     "output_type": "display_data"
    }
   ],
   "source": [
    "qcd = Madgraph5(executable=\"mg5_aMC\", verbose=0)\n",
    "\n",
    "qcd.generate(\"p p > j j\")\n",
    "qcd.output(\"data/pp2jj@10k\")\n",
    "qcd.launch(\n",
    "    shower=\"pythia8\",\n",
    "    detector=\"delphes\",\n",
    "    settings={\n",
    "        \"nevents\": 10000,\n",
    "        \"ptj\": 250,\n",
    "        \"ptjmax\": 300,\n",
    "    },\n",
    "    seed=42,\n",
    ")\n",
    "\n",
    "qcd.summary()"
   ]
  },
  {
   "cell_type": "markdown",
   "metadata": {},
   "source": [
    "## Read the existing output"
   ]
  },
  {
   "cell_type": "code",
   "execution_count": 14,
   "metadata": {},
   "outputs": [
    {
     "data": {
      "text/html": [
       "<pre style=\"white-space:pre;overflow-x:auto;line-height:normal;font-family:Menlo,'DejaVu Sans Mono',consolas,'Courier New',monospace\"><span style=\"font-style: italic\">                                       p p &gt; w+ z                                        </span>\n",
       "┏━━━┳━━━━━━━━━━━┳━━━━━━━━━━━━━━━━━━┳━━━━━━━━━┳━━━━━━━━━━━━━━━━━━━━━━━━┳━━━━━━━━━━┳━━━━━━┓\n",
       "┃<span style=\"font-weight: bold\"> # </span>┃<span style=\"font-weight: bold\"> Name      </span>┃<span style=\"font-weight: bold\"> Collider         </span>┃<span style=\"font-weight: bold\"> Tag     </span>┃<span style=\"font-weight: bold\">   Cross section (pb)   </span>┃<span style=\"font-weight: bold\"> N events </span>┃<span style=\"font-weight: bold\"> Seed </span>┃\n",
       "┡━━━╇━━━━━━━━━━━╇━━━━━━━━━━━━━━━━━━╇━━━━━━━━━╇━━━━━━━━━━━━━━━━━━━━━━━━╇━━━━━━━━━━╇━━━━━━┩\n",
       "│ 0 │ run_01[1] │ pp:6500.0x6500.0 │ 250-300 │ 4.371e-02 +- 4.200e-04 │    1,000 │   42 │\n",
       "│ 1 │ run_02[1] │ pp:6500.0x6500.0 │ 300-350 │ 2.021e-02 +- 1.900e-04 │    1,000 │   42 │\n",
       "│ 2 │ run_03[1] │ pp:6500.0x6500.0 │ 350-400 │ 9.985e-03 +- 9.400e-05 │    1,000 │   42 │\n",
       "│ 3 │ run_04[1] │ pp:6500.0x6500.0 │ 400-450 │ 5.322e-03 +- 8.100e-05 │    1,000 │   42 │\n",
       "│ 4 │ run_05[1] │ pp:6500.0x6500.0 │ 450-500 │ 2.972e-03 +- 3.500e-05 │    1,000 │   42 │\n",
       "└───┴───────────┴──────────────────┴─────────┴────────────────────────┴──────────┴──────┘\n",
       "<span style=\"color: #7f7f7f; text-decoration-color: #7f7f7f; font-style: italic\">                                   Output: data/pp2wz                                    </span>\n",
       "</pre>\n"
      ],
      "text/plain": [
       "\u001b[3m                                       p p > w+ z                                        \u001b[0m\n",
       "┏━━━┳━━━━━━━━━━━┳━━━━━━━━━━━━━━━━━━┳━━━━━━━━━┳━━━━━━━━━━━━━━━━━━━━━━━━┳━━━━━━━━━━┳━━━━━━┓\n",
       "┃\u001b[1m \u001b[0m\u001b[1m#\u001b[0m\u001b[1m \u001b[0m┃\u001b[1m \u001b[0m\u001b[1mName     \u001b[0m\u001b[1m \u001b[0m┃\u001b[1m \u001b[0m\u001b[1mCollider        \u001b[0m\u001b[1m \u001b[0m┃\u001b[1m \u001b[0m\u001b[1mTag    \u001b[0m\u001b[1m \u001b[0m┃\u001b[1m \u001b[0m\u001b[1m  Cross section (pb)  \u001b[0m\u001b[1m \u001b[0m┃\u001b[1m \u001b[0m\u001b[1mN events\u001b[0m\u001b[1m \u001b[0m┃\u001b[1m \u001b[0m\u001b[1mSeed\u001b[0m\u001b[1m \u001b[0m┃\n",
       "┡━━━╇━━━━━━━━━━━╇━━━━━━━━━━━━━━━━━━╇━━━━━━━━━╇━━━━━━━━━━━━━━━━━━━━━━━━╇━━━━━━━━━━╇━━━━━━┩\n",
       "│ 0 │ run_01[1] │ pp:6500.0x6500.0 │ 250-300 │ 4.371e-02 +- 4.200e-04 │    1,000 │   42 │\n",
       "│ 1 │ run_02[1] │ pp:6500.0x6500.0 │ 300-350 │ 2.021e-02 +- 1.900e-04 │    1,000 │   42 │\n",
       "│ 2 │ run_03[1] │ pp:6500.0x6500.0 │ 350-400 │ 9.985e-03 +- 9.400e-05 │    1,000 │   42 │\n",
       "│ 3 │ run_04[1] │ pp:6500.0x6500.0 │ 400-450 │ 5.322e-03 +- 8.100e-05 │    1,000 │   42 │\n",
       "│ 4 │ run_05[1] │ pp:6500.0x6500.0 │ 450-500 │ 2.972e-03 +- 3.500e-05 │    1,000 │   42 │\n",
       "└───┴───────────┴──────────────────┴─────────┴────────────────────────┴──────────┴──────┘\n",
       "\u001b[2;3m                                   Output: data/pp2wz                                    \u001b[0m\n"
      ]
     },
     "metadata": {},
     "output_type": "display_data"
    }
   ],
   "source": [
    "g = Madgraph5.from_output(\"data/pp2wz\", executable=\"mg5_aMC\")\n",
    "g.summary()"
   ]
  },
  {
   "cell_type": "code",
   "execution_count": 15,
   "metadata": {},
   "outputs": [
    {
     "data": {
      "text/plain": [
       "Madgraph5Run run_02 (1 sub runs):\n",
       "- collider: pp:6500.0x6500.0\n",
       "- tag: 300-350\n",
       "- seed: 42\n",
       "- cross: 0.02021\n",
       "- error: 0.00019\n",
       "- n_events: 1000"
      ]
     },
     "execution_count": 15,
     "metadata": {},
     "output_type": "execute_result"
    }
   ],
   "source": [
    "run = Madgraph5Run(\"data/pp2wz\", name=\"run_02\")\n",
    "run"
   ]
  }
 ],
 "metadata": {
  "kernelspec": {
   "display_name": "hep-ml-lab-ZwsdfGvp-py3.10",
   "language": "python",
   "name": "python3"
  },
  "language_info": {
   "codemirror_mode": {
    "name": "ipython",
    "version": 3
   },
   "file_extension": ".py",
   "mimetype": "text/x-python",
   "name": "python",
   "nbconvert_exporter": "python",
   "pygments_lexer": "ipython3",
   "version": "3.11.5"
  }
 },
 "nbformat": 4,
 "nbformat_minor": 2
}
