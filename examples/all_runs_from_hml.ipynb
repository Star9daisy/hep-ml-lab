{
 "cells": [
  {
   "cell_type": "code",
   "execution_count": 1,
   "id": "9787f868-88eb-487d-9eb3-096a00ef0763",
   "metadata": {},
   "outputs": [
    {
     "name": "stdout",
     "output_type": "stream",
     "text": [
      "Welcome to JupyROOT 6.24/02\n"
     ]
    }
   ],
   "source": [
    "from hml.generators import Madgraph5"
   ]
  },
  {
   "cell_type": "code",
   "execution_count": 2,
   "id": "60ac85ca-e0bf-4c31-90c3-cd147e135b3b",
   "metadata": {},
   "outputs": [],
   "source": [
    "g = Madgraph5(\n",
    "    executable=\"mg5_aMC\",\n",
    "    processes=[\"p p > z z, z > j j, z > vl vl~\"],\n",
    "    output=\"data/all_runs_from_hml\",\n",
    "    n_events=1000,\n",
    "    seed=42,\n",
    ")"
   ]
  },
  {
   "cell_type": "code",
   "execution_count": 3,
   "id": "847f53f3",
   "metadata": {},
   "outputs": [
    {
     "data": {
      "text/plain": [
       "['import model sm',\n",
       " 'generate p p > z z, z > j j, z > vl vl~',\n",
       " 'output mg5_output',\n",
       " 'launch -i',\n",
       " 'multi_run 1',\n",
       " 'shower=off',\n",
       " 'detector=off',\n",
       " 'set nevents 1000',\n",
       " 'set iseed 42',\n",
       " 'set run_tag no_tags',\n",
       " 'print_results --path=results --format=short']"
      ]
     },
     "execution_count": 3,
     "metadata": {},
     "output_type": "execute_result"
    }
   ],
   "source": [
    "g.commands"
   ]
  },
  {
   "cell_type": "code",
   "execution_count": 4,
   "id": "d6e275f5-c3ba-4efa-aec7-721633f7f62d",
   "metadata": {},
   "outputs": [
    {
     "name": "stdout",
     "output_type": "stream",
     "text": [
      "Generating events...\n",
      "Storing files...\n",
      "Done\n"
     ]
    }
   ],
   "source": [
    "g.launch()"
   ]
  },
  {
   "cell_type": "code",
   "execution_count": 5,
   "id": "ff0acb8f",
   "metadata": {},
   "outputs": [
    {
     "data": {
      "text/html": [
       "<pre style=\"white-space:pre;overflow-x:auto;line-height:normal;font-family:Menlo,'DejaVu Sans Mono',consolas,'Courier New',monospace\"><span style=\"font-style: italic\">                   p p &gt; z z, z &gt; j j, z &gt; vl vl~                    </span>\n",
       "┏━━━┳━━━━━━━━━━┳━━━━━━━━━┳━━━━━━━━━━━━━━━━━━━━━━━━┳━━━━━━━━━━┳━━━━━━┓\n",
       "┃<span style=\"font-weight: bold\"> # </span>┃<span style=\"font-weight: bold\"> Name     </span>┃<span style=\"font-weight: bold\"> Tags    </span>┃<span style=\"font-weight: bold\">   Cross section (pb)   </span>┃<span style=\"font-weight: bold\"> N events </span>┃<span style=\"font-weight: bold\"> Seed </span>┃\n",
       "┡━━━╇━━━━━━━━━━╇━━━━━━━━━╇━━━━━━━━━━━━━━━━━━━━━━━━╇━━━━━━━━━━╇━━━━━━┩\n",
       "│ 0 │ run_1[1] │ no_tags │ 1.989e+00 +- 1.324e-02 │    1,000 │   42 │\n",
       "└───┴──────────┴─────────┴────────────────────────┴──────────┴──────┘\n",
       "<span style=\"color: #7f7f7f; text-decoration-color: #7f7f7f; font-style: italic\">                   Output: data/all_runs_from_hml                    </span>\n",
       "</pre>\n"
      ],
      "text/plain": [
       "\u001b[3m                   p p > z z, z > j j, z > vl vl~                    \u001b[0m\n",
       "┏━━━┳━━━━━━━━━━┳━━━━━━━━━┳━━━━━━━━━━━━━━━━━━━━━━━━┳━━━━━━━━━━┳━━━━━━┓\n",
       "┃\u001b[1m \u001b[0m\u001b[1m#\u001b[0m\u001b[1m \u001b[0m┃\u001b[1m \u001b[0m\u001b[1mName    \u001b[0m\u001b[1m \u001b[0m┃\u001b[1m \u001b[0m\u001b[1mTags   \u001b[0m\u001b[1m \u001b[0m┃\u001b[1m \u001b[0m\u001b[1m  Cross section (pb)  \u001b[0m\u001b[1m \u001b[0m┃\u001b[1m \u001b[0m\u001b[1mN events\u001b[0m\u001b[1m \u001b[0m┃\u001b[1m \u001b[0m\u001b[1mSeed\u001b[0m\u001b[1m \u001b[0m┃\n",
       "┡━━━╇━━━━━━━━━━╇━━━━━━━━━╇━━━━━━━━━━━━━━━━━━━━━━━━╇━━━━━━━━━━╇━━━━━━┩\n",
       "│ 0 │ run_1[1] │ no_tags │ 1.989e+00 +- 1.324e-02 │    1,000 │   42 │\n",
       "└───┴──────────┴─────────┴────────────────────────┴──────────┴──────┘\n",
       "\u001b[2;3m                   Output: data/all_runs_from_hml                    \u001b[0m\n"
      ]
     },
     "metadata": {},
     "output_type": "display_data"
    }
   ],
   "source": [
    "g.summary()"
   ]
  },
  {
   "cell_type": "code",
   "execution_count": 6,
   "id": "85f30246",
   "metadata": {},
   "outputs": [
    {
     "name": "stdout",
     "output_type": "stream",
     "text": [
      "# 0\n",
      "Name: run_1[1]\n",
      "Tags: no_tags\n",
      "Cross section (pb): 1.9892400000000003 +- 0.013241815989130797\n",
      "N Events: 1000\n",
      "Seed: 42\n"
     ]
    }
   ],
   "source": [
    "for i, run in enumerate(g.runs):\n",
    "    print(f\"# {i}\")\n",
    "    print(f\"Name: {run.name}[{run.n_subruns}]\")\n",
    "    print(f\"Tags: {run.tag}\")\n",
    "    print(f\"Cross section (pb): {run.cross_section} +- {run.error}\")\n",
    "    print(f\"N Events: {run.n_events}\")\n",
    "    print(f\"Seed: {run.seed}\")"
   ]
  },
  {
   "cell_type": "code",
   "execution_count": 7,
   "id": "daeb0e58",
   "metadata": {},
   "outputs": [
    {
     "name": "stdout",
     "output_type": "stream",
     "text": [
      "Generating events...\n",
      "Storing files...\n",
      "Done\n"
     ]
    }
   ],
   "source": [
    "g.n_events = 10000\n",
    "g.settings[\"ptj\"] = 10.0\n",
    "g.settings[\"etaj\"] = 2.4\n",
    "g.tags = [\"ptj=10\", \"etaj=2.4\"]\n",
    "\n",
    "g.launch()"
   ]
  },
  {
   "cell_type": "code",
   "execution_count": 8,
   "id": "35038f24",
   "metadata": {},
   "outputs": [
    {
     "data": {
      "text/html": [
       "<pre style=\"white-space:pre;overflow-x:auto;line-height:normal;font-family:Menlo,'DejaVu Sans Mono',consolas,'Courier New',monospace\"><span style=\"font-style: italic\">                       p p &gt; z z, z &gt; j j, z &gt; vl vl~                        </span>\n",
       "┏━━━┳━━━━━━━━━━┳━━━━━━━━━━━━━━━━━┳━━━━━━━━━━━━━━━━━━━━━━━━┳━━━━━━━━━━┳━━━━━━┓\n",
       "┃<span style=\"font-weight: bold\"> # </span>┃<span style=\"font-weight: bold\"> Name     </span>┃<span style=\"font-weight: bold\"> Tags            </span>┃<span style=\"font-weight: bold\">   Cross section (pb)   </span>┃<span style=\"font-weight: bold\"> N events </span>┃<span style=\"font-weight: bold\"> Seed </span>┃\n",
       "┡━━━╇━━━━━━━━━━╇━━━━━━━━━━━━━━━━━╇━━━━━━━━━━━━━━━━━━━━━━━━╇━━━━━━━━━━╇━━━━━━┩\n",
       "│ 0 │ run_1[1] │ no_tags         │ 1.989e+00 +- 1.324e-02 │    1,000 │   42 │\n",
       "│ 1 │ run_2[1] │ ptj=10,etaj=2.4 │ 1.976e+00 +- 6.010e-03 │   10,000 │   42 │\n",
       "└───┴──────────┴─────────────────┴────────────────────────┴──────────┴──────┘\n",
       "<span style=\"color: #7f7f7f; text-decoration-color: #7f7f7f; font-style: italic\">                       Output: data/all_runs_from_hml                        </span>\n",
       "</pre>\n"
      ],
      "text/plain": [
       "\u001b[3m                       p p > z z, z > j j, z > vl vl~                        \u001b[0m\n",
       "┏━━━┳━━━━━━━━━━┳━━━━━━━━━━━━━━━━━┳━━━━━━━━━━━━━━━━━━━━━━━━┳━━━━━━━━━━┳━━━━━━┓\n",
       "┃\u001b[1m \u001b[0m\u001b[1m#\u001b[0m\u001b[1m \u001b[0m┃\u001b[1m \u001b[0m\u001b[1mName    \u001b[0m\u001b[1m \u001b[0m┃\u001b[1m \u001b[0m\u001b[1mTags           \u001b[0m\u001b[1m \u001b[0m┃\u001b[1m \u001b[0m\u001b[1m  Cross section (pb)  \u001b[0m\u001b[1m \u001b[0m┃\u001b[1m \u001b[0m\u001b[1mN events\u001b[0m\u001b[1m \u001b[0m┃\u001b[1m \u001b[0m\u001b[1mSeed\u001b[0m\u001b[1m \u001b[0m┃\n",
       "┡━━━╇━━━━━━━━━━╇━━━━━━━━━━━━━━━━━╇━━━━━━━━━━━━━━━━━━━━━━━━╇━━━━━━━━━━╇━━━━━━┩\n",
       "│ 0 │ run_1[1] │ no_tags         │ 1.989e+00 +- 1.324e-02 │    1,000 │   42 │\n",
       "│ 1 │ run_2[1] │ ptj=10,etaj=2.4 │ 1.976e+00 +- 6.010e-03 │   10,000 │   42 │\n",
       "└───┴──────────┴─────────────────┴────────────────────────┴──────────┴──────┘\n",
       "\u001b[2;3m                       Output: data/all_runs_from_hml                        \u001b[0m\n"
      ]
     },
     "metadata": {},
     "output_type": "display_data"
    }
   ],
   "source": [
    "g.summary()"
   ]
  },
  {
   "cell_type": "code",
   "execution_count": 17,
   "id": "6a28767f",
   "metadata": {},
   "outputs": [
    {
     "name": "stdout",
     "output_type": "stream",
     "text": [
      "Generating events...\n",
      "Storing files...\n",
      "Done\n",
      "Generating events...\n",
      "Storing files...\n",
      "Done\n",
      "Generating events...\n",
      "Storing files...\n",
      "Done\n"
     ]
    },
    {
     "data": {
      "text/html": [
       "<pre style=\"white-space:pre;overflow-x:auto;line-height:normal;font-family:Menlo,'DejaVu Sans Mono',consolas,'Courier New',monospace\"><span style=\"font-style: italic\">                       p p &gt; z z, z &gt; j j, z &gt; vl vl~                        </span>\n",
       "┏━━━┳━━━━━━━━━━┳━━━━━━━━━━━━━━━━━┳━━━━━━━━━━━━━━━━━━━━━━━━┳━━━━━━━━━━┳━━━━━━┓\n",
       "┃<span style=\"font-weight: bold\"> # </span>┃<span style=\"font-weight: bold\"> Name     </span>┃<span style=\"font-weight: bold\"> Tags            </span>┃<span style=\"font-weight: bold\">   Cross section (pb)   </span>┃<span style=\"font-weight: bold\"> N events </span>┃<span style=\"font-weight: bold\"> Seed </span>┃\n",
       "┡━━━╇━━━━━━━━━━╇━━━━━━━━━━━━━━━━━╇━━━━━━━━━━━━━━━━━━━━━━━━╇━━━━━━━━━━╇━━━━━━┩\n",
       "│ 0 │ run_1[1] │ no_tags         │ 1.989e+00 +- 1.324e-02 │    1,000 │   42 │\n",
       "│ 1 │ run_2[1] │ ptj=10,etaj=2.4 │ 1.976e+00 +- 6.010e-03 │   10,000 │   42 │\n",
       "│ 2 │ run_3[1] │ no_tags         │ 1.989e+00 +- 1.324e-02 │    1,000 │   42 │\n",
       "│ 3 │ run_4[1] │ no_tags         │ 1.989e+00 +- 1.324e-02 │    1,000 │   42 │\n",
       "│ 4 │ run_5[1] │ no_tags         │ 1.989e+00 +- 1.324e-02 │    1,000 │   42 │\n",
       "└───┴──────────┴─────────────────┴────────────────────────┴──────────┴──────┘\n",
       "<span style=\"color: #7f7f7f; text-decoration-color: #7f7f7f; font-style: italic\">                       Output: data/all_runs_from_hml                        </span>\n",
       "</pre>\n"
      ],
      "text/plain": [
       "\u001b[3m                       p p > z z, z > j j, z > vl vl~                        \u001b[0m\n",
       "┏━━━┳━━━━━━━━━━┳━━━━━━━━━━━━━━━━━┳━━━━━━━━━━━━━━━━━━━━━━━━┳━━━━━━━━━━┳━━━━━━┓\n",
       "┃\u001b[1m \u001b[0m\u001b[1m#\u001b[0m\u001b[1m \u001b[0m┃\u001b[1m \u001b[0m\u001b[1mName    \u001b[0m\u001b[1m \u001b[0m┃\u001b[1m \u001b[0m\u001b[1mTags           \u001b[0m\u001b[1m \u001b[0m┃\u001b[1m \u001b[0m\u001b[1m  Cross section (pb)  \u001b[0m\u001b[1m \u001b[0m┃\u001b[1m \u001b[0m\u001b[1mN events\u001b[0m\u001b[1m \u001b[0m┃\u001b[1m \u001b[0m\u001b[1mSeed\u001b[0m\u001b[1m \u001b[0m┃\n",
       "┡━━━╇━━━━━━━━━━╇━━━━━━━━━━━━━━━━━╇━━━━━━━━━━━━━━━━━━━━━━━━╇━━━━━━━━━━╇━━━━━━┩\n",
       "│ 0 │ run_1[1] │ no_tags         │ 1.989e+00 +- 1.324e-02 │    1,000 │   42 │\n",
       "│ 1 │ run_2[1] │ ptj=10,etaj=2.4 │ 1.976e+00 +- 6.010e-03 │   10,000 │   42 │\n",
       "│ 2 │ run_3[1] │ no_tags         │ 1.989e+00 +- 1.324e-02 │    1,000 │   42 │\n",
       "│ 3 │ run_4[1] │ no_tags         │ 1.989e+00 +- 1.324e-02 │    1,000 │   42 │\n",
       "│ 4 │ run_5[1] │ no_tags         │ 1.989e+00 +- 1.324e-02 │    1,000 │   42 │\n",
       "└───┴──────────┴─────────────────┴────────────────────────┴──────────┴──────┘\n",
       "\u001b[2;3m                       Output: data/all_runs_from_hml                        \u001b[0m\n"
      ]
     },
     "metadata": {},
     "output_type": "display_data"
    }
   ],
   "source": [
    "g.n_events = 1000\n",
    "del g.settings[\"ptj\"]\n",
    "del g.settings[\"etaj\"]\n",
    "g.tags = []\n",
    "\n",
    "for i in range(3):\n",
    "    g.launch()\n",
    "\n",
    "g.summary()"
   ]
  }
 ],
 "metadata": {
  "kernelspec": {
   "display_name": "Python 3 (ipykernel)",
   "language": "python",
   "name": "python3"
  },
  "language_info": {
   "codemirror_mode": {
    "name": "ipython",
    "version": 3
   },
   "file_extension": ".py",
   "mimetype": "text/x-python",
   "name": "python",
   "nbconvert_exporter": "python",
   "pygments_lexer": "ipython3",
   "version": "3.8.17"
  }
 },
 "nbformat": 4,
 "nbformat_minor": 5
}
