{
 "cells": [
  {
   "cell_type": "markdown",
   "metadata": {},
   "source": [
    "# Generate events\n",
    "\n",
    "This guide shows how to use the Madgraph5 class of HML to generate events from Z\n",
    "boson and QCD to dijets processes. To get started, let’s import some necessary\n",
    "classes from generators module:"
   ]
  },
  {
   "cell_type": "code",
   "execution_count": 1,
   "metadata": {},
   "outputs": [
    {
     "name": "stdout",
     "output_type": "stream",
     "text": [
      "Welcome to JupyROOT 6.24/02\n"
     ]
    }
   ],
   "source": [
    "from hml.generators import Madgraph5, Madgraph5MultiRun, Madgraph5Run"
   ]
  },
  {
   "cell_type": "markdown",
   "metadata": {},
   "source": [
    "## Initialization\n",
    "\n",
    "The Madgraph5 API (application programming interface) provided by HML works\n",
    "similarly to the Madgraph5 CLI (command line interface): initialization\n",
    "corresponds to the classic workflow of `generate`, `output`, `launch`."
   ]
  },
  {
   "cell_type": "code",
   "execution_count": 2,
   "metadata": {},
   "outputs": [],
   "source": [
    "zjj = Madgraph5(\n",
    "    executable=\"mg5_aMC\",\n",
    "    model=\"sm\",\n",
    "    definitions={},\n",
    "    processes=[\"p p > z z, z > j j, z > vl vl~\"],\n",
    "    output=\"data/pp2zz_z2jj_z2vlvl\",\n",
    ")"
   ]
  },
  {
   "cell_type": "markdown",
   "metadata": {},
   "source": [
    "- `executable` refers to the path of the `mg5_aMC` executable file.\n",
    "- `model` is managed by Madgraph5 itself.\n",
    "- `definitions` are used for the `define` command in Madgraph5.\n",
    "- Usually in Madgraph5, you need to use `generate` and `add process` to create\n",
    "multiple processes. In HML, processes are represented as a list of strings.\n",
    "- If `output` already exists, this class will not generate processes again."
   ]
  },
  {
   "cell_type": "markdown",
   "metadata": {},
   "source": [
    "## Launch the first run\n",
    "\n",
    "After initializing the class (or `output` in Madgraph5 CLI), you can now launch\n",
    "a new run:"
   ]
  },
  {
   "cell_type": "code",
   "execution_count": 3,
   "metadata": {},
   "outputs": [
    {
     "name": "stdout",
     "output_type": "stream",
     "text": [
      "Running Survey\n",
      "Running Pythia8\n",
      "Running Delphes\n",
      "Storing files\n",
      "\n",
      "Done\n"
     ]
    },
    {
     "data": {
      "text/plain": [
       "Madgraph5MultiRun(name='run_01', tag='tag_1', seed=42, n_events=1000, cross_section=0.0022735, collider='pp: 6500.0x6500.0', events=<cppyy.gbl.TChain object at 0x818cf10>, runs=[Madgraph5Run(name='run_01_0', tag='tag_1', directory=PosixPath('/root/workspace_ssd/projects/hep-ml-lab/examples/data/pp2zz_z2jj_z2vlvl/Events/run_01_0'), seed=42, n_events=1000, cross_section=0.0022735, collider='pp: 6500.0x6500.0', events=<cppyy.gbl.TChain object at 0x7760280>)])"
      ]
     },
     "execution_count": 3,
     "metadata": {},
     "output_type": "execute_result"
    }
   ],
   "source": [
    "zjj.launch(\n",
    "    shower=\"pythia8\",\n",
    "    detector=\"delphes\",\n",
    "    settings={\"iseed\": 42, \"nevents\": 1000, \"htjmin\": 400},\n",
    ")"
   ]
  },
  {
   "cell_type": "markdown",
   "metadata": {},
   "source": [
    "- `shower` and `detector` are options for parton shower and detector simulation\n",
    "tools. Currently, `pythia8` and `delphes` are available.\n",
    "- In Madgraph5, you can use the `set` command to change configurations in\n",
    "different cards without opening them. The `settings` attribute contains these\n",
    "configurations as a Python dictionary.\n",
    "- To generate a large number of events, set the `multi_run` parameter."
   ]
  },
  {
   "cell_type": "markdown",
   "metadata": {},
   "source": [
    "## Check the information\n",
    "\n",
    "After the generation is finished, you can use `.summary()` to check all the\n",
    "information of runs:"
   ]
  },
  {
   "cell_type": "code",
   "execution_count": 4,
   "metadata": {},
   "outputs": [
    {
     "data": {
      "text/html": [
       "<pre style=\"white-space:pre;overflow-x:auto;line-height:normal;font-family:Menlo,'DejaVu Sans Mono',consolas,'Courier New',monospace\"><span style=\"font-style: italic\">                 p p &gt; z z, z &gt; j j, z &gt; vl vl~                 </span>\n",
       "┏━━━┳━━━━━━━━━━━┳━━━━━━━┳━━━━━━━━━━━━━━━━━━━━┳━━━━━━━━━━┳━━━━━━┓\n",
       "┃<span style=\"font-weight: bold\"> # </span>┃<span style=\"font-weight: bold\"> Name      </span>┃<span style=\"font-weight: bold\"> Tag   </span>┃<span style=\"font-weight: bold\"> Cross section (pb) </span>┃<span style=\"font-weight: bold\"> N events </span>┃<span style=\"font-weight: bold\"> Seed </span>┃\n",
       "┡━━━╇━━━━━━━━━━━╇━━━━━━━╇━━━━━━━━━━━━━━━━━━━━╇━━━━━━━━━━╇━━━━━━┩\n",
       "│ 0 │ run_01[1] │ tag_1 │     2.273e-03      │    1,000 │   42 │\n",
       "└───┴───────────┴───────┴────────────────────┴──────────┴──────┘\n",
       "<span style=\"color: #7f7f7f; text-decoration-color: #7f7f7f; font-style: italic\">                            Output:                             </span>\n",
       "<span style=\"color: #7f7f7f; text-decoration-color: #7f7f7f; font-style: italic\">/root/workspace_ssd/projects/hep-ml-lab/examples/data/pp2zz_z2jj</span>\n",
       "<span style=\"color: #7f7f7f; text-decoration-color: #7f7f7f; font-style: italic\">                            _z2vlvl                             </span>\n",
       "</pre>\n"
      ],
      "text/plain": [
       "\u001b[3m                 p p > z z, z > j j, z > vl vl~                 \u001b[0m\n",
       "┏━━━┳━━━━━━━━━━━┳━━━━━━━┳━━━━━━━━━━━━━━━━━━━━┳━━━━━━━━━━┳━━━━━━┓\n",
       "┃\u001b[1m \u001b[0m\u001b[1m#\u001b[0m\u001b[1m \u001b[0m┃\u001b[1m \u001b[0m\u001b[1mName     \u001b[0m\u001b[1m \u001b[0m┃\u001b[1m \u001b[0m\u001b[1mTag  \u001b[0m\u001b[1m \u001b[0m┃\u001b[1m \u001b[0m\u001b[1mCross section (pb)\u001b[0m\u001b[1m \u001b[0m┃\u001b[1m \u001b[0m\u001b[1mN events\u001b[0m\u001b[1m \u001b[0m┃\u001b[1m \u001b[0m\u001b[1mSeed\u001b[0m\u001b[1m \u001b[0m┃\n",
       "┡━━━╇━━━━━━━━━━━╇━━━━━━━╇━━━━━━━━━━━━━━━━━━━━╇━━━━━━━━━━╇━━━━━━┩\n",
       "│ 0 │ run_01[1] │ tag_1 │     2.273e-03      │    1,000 │   42 │\n",
       "└───┴───────────┴───────┴────────────────────┴──────────┴──────┘\n",
       "\u001b[2;3m                            Output:                             \u001b[0m\n",
       "\u001b[2;3m/root/workspace_ssd/projects/hep-ml-lab/examples/data/pp2zz_z2jj\u001b[0m\n",
       "\u001b[2;3m                            _z2vlvl                             \u001b[0m\n"
      ]
     },
     "metadata": {},
     "output_type": "display_data"
    }
   ],
   "source": [
    "zjj.summary()"
   ]
  },
  {
   "cell_type": "markdown",
   "metadata": {},
   "source": [
    "The data in the summary table are properties of a run:"
   ]
  },
  {
   "cell_type": "code",
   "execution_count": 5,
   "metadata": {},
   "outputs": [
    {
     "name": "stdout",
     "output_type": "stream",
     "text": [
      "Name: run_01\n",
      "N Subruns: 1\n",
      "Tag: tag_1\n",
      "Cross section: 0.0022735\n",
      "N events: 1000\n",
      "Seed: 42\n"
     ]
    }
   ],
   "source": [
    "run_01 = zjj.runs[0]\n",
    "print(\"Name:\", run_01.name)\n",
    "print(\"N Subruns:\", len(run_01.runs))\n",
    "print(\"Tag:\", run_01.tag)\n",
    "print(\"Cross section:\", run_01.cross_section)\n",
    "print(\"N events:\", run_01.n_events)\n",
    "print(\"Seed:\", run_01.seed)"
   ]
  },
  {
   "cell_type": "markdown",
   "metadata": {},
   "source": [
    "You can access the `events` attribute to read the root file from Delphes:"
   ]
  },
  {
   "cell_type": "code",
   "execution_count": 6,
   "metadata": {},
   "outputs": [
    {
     "name": "stdout",
     "output_type": "stream",
     "text": [
      "n_jets: 2\n",
      "n_fat_jets: 1\n"
     ]
    }
   ],
   "source": [
    "for event in run_01.events:\n",
    "    print(f\"n_jets: {event.Jet_size}\")\n",
    "    print(f\"n_fat_jets: {event.FatJet_size}\")\n",
    "    break"
   ]
  },
  {
   "cell_type": "markdown",
   "metadata": {},
   "source": [
    "## Launch the second run similarly\n",
    "\n",
    "To build a signal vs background binary classification task, we need to generate\n",
    "QCD events without the intermediate Z boson."
   ]
  },
  {
   "cell_type": "code",
   "execution_count": 7,
   "metadata": {},
   "outputs": [
    {
     "name": "stdout",
     "output_type": "stream",
     "text": [
      "Running Survey\n",
      "Running Pythia8\n",
      "Running Delphes\n",
      "Storing files\n",
      "\n",
      "Done\n"
     ]
    },
    {
     "data": {
      "text/html": [
       "<pre style=\"white-space:pre;overflow-x:auto;line-height:normal;font-family:Menlo,'DejaVu Sans Mono',consolas,'Courier New',monospace\"><span style=\"font-style: italic\">                         p p &gt; j j / z                          </span>\n",
       "┏━━━┳━━━━━━━━━━━┳━━━━━━━┳━━━━━━━━━━━━━━━━━━━━┳━━━━━━━━━━┳━━━━━━┓\n",
       "┃<span style=\"font-weight: bold\"> # </span>┃<span style=\"font-weight: bold\"> Name      </span>┃<span style=\"font-weight: bold\"> Tag   </span>┃<span style=\"font-weight: bold\"> Cross section (pb) </span>┃<span style=\"font-weight: bold\"> N events </span>┃<span style=\"font-weight: bold\"> Seed </span>┃\n",
       "┡━━━╇━━━━━━━━━━━╇━━━━━━━╇━━━━━━━━━━━━━━━━━━━━╇━━━━━━━━━━╇━━━━━━┩\n",
       "│ 0 │ run_01[1] │ tag_1 │     5.611e+04      │    1,000 │   42 │\n",
       "└───┴───────────┴───────┴────────────────────┴──────────┴──────┘\n",
       "<span style=\"color: #7f7f7f; text-decoration-color: #7f7f7f; font-style: italic\">                            Output:                             </span>\n",
       "<span style=\"color: #7f7f7f; text-decoration-color: #7f7f7f; font-style: italic\">   /root/workspace_ssd/projects/hep-ml-lab/examples/data/qcd    </span>\n",
       "</pre>\n"
      ],
      "text/plain": [
       "\u001b[3m                         p p > j j / z                          \u001b[0m\n",
       "┏━━━┳━━━━━━━━━━━┳━━━━━━━┳━━━━━━━━━━━━━━━━━━━━┳━━━━━━━━━━┳━━━━━━┓\n",
       "┃\u001b[1m \u001b[0m\u001b[1m#\u001b[0m\u001b[1m \u001b[0m┃\u001b[1m \u001b[0m\u001b[1mName     \u001b[0m\u001b[1m \u001b[0m┃\u001b[1m \u001b[0m\u001b[1mTag  \u001b[0m\u001b[1m \u001b[0m┃\u001b[1m \u001b[0m\u001b[1mCross section (pb)\u001b[0m\u001b[1m \u001b[0m┃\u001b[1m \u001b[0m\u001b[1mN events\u001b[0m\u001b[1m \u001b[0m┃\u001b[1m \u001b[0m\u001b[1mSeed\u001b[0m\u001b[1m \u001b[0m┃\n",
       "┡━━━╇━━━━━━━━━━━╇━━━━━━━╇━━━━━━━━━━━━━━━━━━━━╇━━━━━━━━━━╇━━━━━━┩\n",
       "│ 0 │ run_01[1] │ tag_1 │     5.611e+04      │    1,000 │   42 │\n",
       "└───┴───────────┴───────┴────────────────────┴──────────┴──────┘\n",
       "\u001b[2;3m                            Output:                             \u001b[0m\n",
       "\u001b[2;3m   /root/workspace_ssd/projects/hep-ml-lab/examples/data/qcd    \u001b[0m\n"
      ]
     },
     "metadata": {},
     "output_type": "display_data"
    }
   ],
   "source": [
    "qcd = Madgraph5(\n",
    "    processes=['p p > j j / z'],\n",
    "    output=\"./data/qcd\"\n",
    ")\n",
    "\n",
    "qcd.launch(\n",
    "    shower=\"pythia8\",\n",
    "    detector=\"delphes\",\n",
    "    settings={\"iseed\": 42, \"nevents\": 1000, \"htjmin\": 400},\n",
    ")\n",
    "\n",
    "qcd.summary()"
   ]
  },
  {
   "cell_type": "markdown",
   "metadata": {},
   "source": [
    "## Read the existing output\n",
    "\n",
    "HML can handle three cases:"
   ]
  },
  {
   "cell_type": "markdown",
   "metadata": {},
   "source": [
    "1. Events are generated by HML:"
   ]
  },
  {
   "cell_type": "code",
   "execution_count": 8,
   "metadata": {},
   "outputs": [
    {
     "data": {
      "text/plain": [
       "<hml.generators.Madgraph5 at 0x7f85cd69ceb0>"
      ]
     },
     "execution_count": 8,
     "metadata": {},
     "output_type": "execute_result"
    }
   ],
   "source": [
    "Madgraph5.from_output(\"./data/pp2zz_z2jj_z2vlvl\")"
   ]
  },
  {
   "cell_type": "markdown",
   "metadata": {},
   "source": [
    "2. Events are generated by the `multi_run` command from MadEvent:"
   ]
  },
  {
   "cell_type": "code",
   "execution_count": 9,
   "metadata": {},
   "outputs": [
    {
     "data": {
      "text/plain": [
       "Madgraph5MultiRun(name='run_01', tag='tag_1', seed=42, n_events=1000, cross_section=0.0022735, collider='pp: 6500.0x6500.0', events=<cppyy.gbl.TChain object at 0x1e4bbb0>, runs=[Madgraph5Run(name='run_01_0', tag='tag_1', directory=PosixPath('data/pp2zz_z2jj_z2vlvl/Events/run_01_0'), seed=42, n_events=1000, cross_section=0.0022735, collider='pp: 6500.0x6500.0', events=<cppyy.gbl.TChain object at 0x83f6f80>)])"
      ]
     },
     "execution_count": 9,
     "metadata": {},
     "output_type": "execute_result"
    }
   ],
   "source": [
    "Madgraph5MultiRun.from_name(\"run_01\", \"./data/pp2zz_z2jj_z2vlvl\")"
   ]
  },
  {
   "cell_type": "markdown",
   "metadata": {},
   "source": [
    "3. Events are generated normally by the `launch` command from Madgraph5:"
   ]
  },
  {
   "cell_type": "code",
   "execution_count": 10,
   "metadata": {},
   "outputs": [
    {
     "data": {
      "text/plain": [
       "Madgraph5Run(name='run_01_0', tag='tag_1', directory=PosixPath('data/pp2zz_z2jj_z2vlvl/Events/run_01_0'), seed=42, n_events=1000, cross_section=0.0022735, collider='pp: 6500.0x6500.0', events=<cppyy.gbl.TChain object at 0x1e3fe40>)"
      ]
     },
     "execution_count": 10,
     "metadata": {},
     "output_type": "execute_result"
    }
   ],
   "source": [
    "Madgraph5Run.from_directory(\"./data/pp2zz_z2jj_z2vlvl/Events/run_01_0\")"
   ]
  },
  {
   "cell_type": "markdown",
   "metadata": {},
   "source": [
    "For more information about `Madgraph5, Madgraph5MultiRun, Madgraph5Run`, refer\n",
    "to this (link to api)."
   ]
  }
 ],
 "metadata": {
  "kernelspec": {
   "display_name": "hep-ml-lab-ZwsdfGvp-py3.8",
   "language": "python",
   "name": "python3"
  },
  "language_info": {
   "codemirror_mode": {
    "name": "ipython",
    "version": 3
   },
   "file_extension": ".py",
   "mimetype": "text/x-python",
   "name": "python",
   "nbconvert_exporter": "python",
   "pygments_lexer": "ipython3",
   "version": "3.8.17"
  }
 },
 "nbformat": 4,
 "nbformat_minor": 2
}
